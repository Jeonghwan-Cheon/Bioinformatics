{
  "nbformat": 4,
  "nbformat_minor": 0,
  "metadata": {
    "colab": {
      "name": "Predict Toxicity of Chemical Compounds.ipynb",
      "provenance": [],
      "collapsed_sections": [],
      "toc_visible": true,
      "authorship_tag": "ABX9TyNlEtIpiDYGugL08op1F2vS",
      "include_colab_link": true
    },
    "kernelspec": {
      "name": "python3",
      "display_name": "Python 3"
    },
    "accelerator": "GPU"
  },
  "cells": [
    {
      "cell_type": "markdown",
      "metadata": {
        "id": "view-in-github",
        "colab_type": "text"
      },
      "source": [
        "<a href=\"https://colab.research.google.com/github/Jeonghwan-Cheon/Predict-Tocitity-of-Chemical-Compound/blob/master/Predict_Toxicity_of_Chemical_Compounds.ipynb\" target=\"_parent\"><img src=\"https://colab.research.google.com/assets/colab-badge.svg\" alt=\"Open In Colab\"/></a>"
      ]
    },
    {
      "cell_type": "markdown",
      "metadata": {
        "id": "SAAb82kzbLGn"
      },
      "source": [
        "# Predict Toxicity of Chemical Compounds\n",
        "\n",
        "\n",
        "> 2020 Fall Semester Bioinformatics  \n",
        "Project #5  \n",
        "Jeonghwan Cheon (20190643)  \n",
        "\n",
        "\n",
        "\n"
      ]
    },
    {
      "cell_type": "markdown",
      "metadata": {
        "id": "yppWjV4GbofW"
      },
      "source": [
        "### Project Goal\n",
        "* Predict the toxicity of compounds using a neural network model \n",
        "* Datasets: 'nr-ar.smiles' and 'nr-er.smiles' file. \n",
        "* Each file contains 'smiles string of compound', 'array data', and 'activity value' \n",
        "* Activity value is marked as 0 when a compound is non-toxic, and 1 vice versa. \n",
        "\n",
        "\n",
        "> Mayr, Andreas, et al. \"DeepTox: toxicity prediction using deep learning.\" Frontiers in Environmental Science 3 (2016): 80.\n",
        "\n",
        "\n",
        "\n",
        "\n",
        "\n"
      ]
    },
    {
      "cell_type": "markdown",
      "metadata": {
        "id": "cEJ3BjpgcDO0"
      },
      "source": [
        "### Guideline for Project\n",
        "\n",
        "1. Build a neural network model for predicting the toxicity of compounds.\n",
        "2. Randomly split the dataset to training set and test set using train_test_split from sklearn (8:2)\n",
        "3. Train your model using the training dataset (and optimize your model using validation set).\n",
        "4. Report the ROC-AUC score of the test dataset using the trained model. (https://scikit-learn.org/stable/auto_examples/model_selection/plot_roc_crossval.html#sphx-glr-auto-examples-model-selection-plot-roc-crossval-py)\n",
        "5. Use google colab (or whatever you want)\n",
        "6. Upload \".ipynb\" file or link to your google colab code \n",
        "\n"
      ]
    },
    {
      "cell_type": "markdown",
      "metadata": {
        "id": "1AyDHQted_ng"
      },
      "source": [
        "# Setup Environment"
      ]
    },
    {
      "cell_type": "code",
      "metadata": {
        "id": "8etdVObnZlOW"
      },
      "source": [
        "# install rdkit library on colab environment\n",
        "!wget -c https://repo.continuum.io/miniconda/Miniconda3-py37_4.8.3-Linux-x86_64.sh\n",
        "!chmod +x Miniconda3-py37_4.8.3-Linux-x86_64.sh\n",
        "!time bash ./Miniconda3-py37_4.8.3-Linux-x86_64.sh -b -f -p /usr/local\n",
        "!time conda install -q -y -c conda-forge rdkit"
      ],
      "execution_count": null,
      "outputs": []
    },
    {
      "cell_type": "code",
      "metadata": {
        "id": "dnzrfufuZwaa"
      },
      "source": [
        "# %matplotlib inline\n",
        "import matplotlib.pyplot as plt\n",
        "import sys\n",
        "import os\n",
        "sys.path.append('/usr/local/lib/python3.7/site-packages/')\n",
        "\n",
        "#import basic python packages\n",
        "import numpy as np\n",
        "import pandas as pd\n",
        "\n",
        "from rdkit import Chem\n",
        "from rdkit.Chem import DataStructs\n",
        "from rdkit.Chem import AllChem\n",
        "from rdkit.Chem import RDConfig\n",
        "from rdkit import rdBase\n",
        "\n",
        "import tensorflow as tf\n",
        "import tensorflow.keras as keras\n",
        "from keras import Model\n",
        "from keras.backend import one_hot\n",
        "from keras.layers import Activation, Dense, Dropout, Input\n",
        "from keras.utils import np_utils"
      ],
      "execution_count": 3,
      "outputs": []
    },
    {
      "cell_type": "code",
      "metadata": {
        "id": "HiwPTvoIaKrS",
        "colab": {
          "base_uri": "https://localhost:8080/"
        },
        "outputId": "6e08360f-1bbd-4f48-d9f4-9cce3b8eafef"
      },
      "source": [
        "# load data from google drive\n",
        "from google.colab import drive\n",
        "drive.mount('/gdrive', force_remount=True)\n",
        "address = '/gdrive/My Drive/Development Project/Predict Toxicity of Chemical Compounds/'\n",
        "data_AR = address+'nr-ar.smiles'\n",
        "data_ER = address+'nr-er.smiles'"
      ],
      "execution_count": 4,
      "outputs": [
        {
          "output_type": "stream",
          "text": [
            "Mounted at /gdrive\n"
          ],
          "name": "stdout"
        }
      ]
    },
    {
      "cell_type": "markdown",
      "metadata": {
        "id": "fR2OUL2THY_-"
      },
      "source": [
        "# Dataset Processing"
      ]
    },
    {
      "cell_type": "code",
      "metadata": {
        "id": "qf4DumwUacON",
        "colab": {
          "base_uri": "https://localhost:8080/"
        },
        "outputId": "effc8b92-3b8e-4d13-e83c-5ea5cd3e6cdb"
      },
      "source": [
        "# save the uploaded data as Pandas dataframe\n",
        "import io\n",
        "df_AR = pd.read_csv(data_AR, sep = '\\t', names = ['smiles', 'array', 'activity'])\n",
        "df_ER = pd.read_csv(data_ER, sep = '\\t', names = ['smiles', 'array', 'activity'])\n",
        "\n",
        "smi_AR = df_AR['smiles']\n",
        "smi_ER = df_ER['smiles']\n",
        "activity_AR = df_AR['activity']\n",
        "activity_ER = df_ER['activity']\n",
        "\n",
        "# print the head of dataset\n",
        "print(\"---------- smiles data of AR ----------\")\n",
        "print(smi_AR.head())\n",
        "print(\"\\n---------- activity data of AR ----------\")\n",
        "print(activity_AR.head())\n",
        "print(\"\\n---------- smiles data of ER ----------\")\n",
        "print(smi_ER.head())\n",
        "print(\"\\n---------- activity data of AR ----------\")\n",
        "print(activity_ER.head())"
      ],
      "execution_count": 5,
      "outputs": [
        {
          "output_type": "stream",
          "text": [
            "---------- smiles data of AR ----------\n",
            "0    CC(O)=O.CCNC(=O)[C@@H]1CCCN1C(=O)[C@H](CCCNC(N...\n",
            "1      Cl.CCCCCCOC1=CC=C(C(=N)N(CCCC)CCCC)C2=C1C=CC=C2\n",
            "2    Cl.Cl.COCC(=O)O[C@]3(CCN(C)CCCC1=NC2=C(N1)C=CC...\n",
            "3    Cl.Cl.CCCCC(CC)CNC(=N)NC(=N)NCCCCCCNC(=N)NC(=N...\n",
            "4           [Br-].CCCCCCCCCCCC[N+](C)(C)CCOC1=CC=CC=C1\n",
            "Name: smiles, dtype: object\n",
            "\n",
            "---------- activity data of AR ----------\n",
            "0    0\n",
            "1    0\n",
            "2    0\n",
            "3    0\n",
            "4    0\n",
            "Name: activity, dtype: int64\n",
            "\n",
            "---------- smiles data of ER ----------\n",
            "0    Cl.[H][C@@]1(CCCCN1)[C@@H](O)C2=CC(=NC3=C2C=CC...\n",
            "1    COC1=CC=C2[C@H]([C@H](C3=CC=CC=C3)C(C)(C)OC2=C...\n",
            "2              NC1=NC(N)=C2N=C(C3=CC=CC=C3)C(N)=NC2=N1\n",
            "3    CC1(C)CNC(NC1)=NN=C(\\C=C\\C2=CC=C(C=C2)C(F)(F)F...\n",
            "4    [Cl-].CCCCCCCCCC[N+](C)(CCCCCCCCCC)CCC[Si](OC)...\n",
            "Name: smiles, dtype: object\n",
            "\n",
            "---------- activity data of AR ----------\n",
            "0    1\n",
            "1    0\n",
            "2    0\n",
            "3    1\n",
            "4    0\n",
            "Name: activity, dtype: int64\n"
          ],
          "name": "stdout"
        }
      ]
    },
    {
      "cell_type": "code",
      "metadata": {
        "id": "o0evDkmradVo",
        "colab": {
          "base_uri": "https://localhost:8080/"
        },
        "outputId": "3ff9af8e-1285-4f8c-813e-4eb088fe0283"
      },
      "source": [
        "# data preprocessing; convert SMILES string to 2048 bit Fingerprint\n",
        "def preprocessing(data_X, data_Y):\n",
        "  data_x = []\n",
        "  data_y = []\n",
        "\n",
        "  if len(data_X)==len(data_Y):\n",
        "    length = len(data_X)\n",
        "  else :\n",
        "    print(\"Error: two input data have different size\")\n",
        "\n",
        "  lossDataCount = 0\n",
        "\n",
        "  for i in range(length):\n",
        "    mol = Chem.MolFromSmiles(data_X[i])\n",
        "    if mol != None:\n",
        "      # Smiles data process\n",
        "      fp = Chem.RDKFingerprint(mol)\n",
        "      data_x.append(list(map(int, fp.ToBitString())))\n",
        "      # Activaty data process ([activation, inactivation])\n",
        "      if data_Y[i] == 1:\n",
        "        data_y.append([1, 0])\n",
        "      else:\n",
        "        data_y.append([0, 1])\n",
        "    else:\n",
        "      lossDataCount += 1;\n",
        "\n",
        "  print(\"Total \", lossDataCount, \"data deleted\")\n",
        "\n",
        "  return np.array(data_x), np.array(data_y)\n",
        "\n",
        "data_X_AR, data_Y_AR = preprocessing(smi_AR, activity_AR)\n",
        "data_X_ER, data_Y_ER = preprocessing(smi_ER, activity_ER)"
      ],
      "execution_count": 6,
      "outputs": [
        {
          "output_type": "stream",
          "text": [
            "Total  5 data deleted\n",
            "Total  4 data deleted\n"
          ],
          "name": "stdout"
        }
      ]
    },
    {
      "cell_type": "markdown",
      "metadata": {
        "id": "OOUgIV3XYqQq"
      },
      "source": [
        "Since some of the smiles data cannot be converted to fingerprint, those data were deleted. In AR dataset, 5 data deleted. In ER dataset, 4 data deleted."
      ]
    },
    {
      "cell_type": "code",
      "metadata": {
        "id": "x7ZHLHSjaqCA",
        "colab": {
          "base_uri": "https://localhost:8080/"
        },
        "outputId": "a01c38ea-2c99-478d-b479-bc0fc5d5037f"
      },
      "source": [
        "# check the shape of the raw data\n",
        "print(\"data_X_AR: \", data_X_AR.shape)\n",
        "print(\"data_Y_AR: \", data_Y_AR.shape)\n",
        "print(\"data_X_ER: \", data_X_ER.shape)\n",
        "print(\"data_Y_ER: \", data_Y_ER.shape)"
      ],
      "execution_count": 20,
      "outputs": [
        {
          "output_type": "stream",
          "text": [
            "data_X_AR:  (9357, 2048)\n",
            "data_Y_AR:  (9357, 2)\n",
            "data_X_ER:  (7693, 2048)\n",
            "data_Y_ER:  (7693, 2)\n"
          ],
          "name": "stdout"
        }
      ]
    },
    {
      "cell_type": "code",
      "metadata": {
        "colab": {
          "base_uri": "https://localhost:8080/"
        },
        "id": "sf1T0HQIOGu9",
        "outputId": "6db619f3-b26c-4682-8938-17a7834b5a30"
      },
      "source": [
        "def count_activation(data_Y):\n",
        "  activationCount = 0\n",
        "  inactivationCount = 0\n",
        "  for i in range(len(data_Y)):\n",
        "    if data_Y[i][0] == 1:\n",
        "      activationCount += 1\n",
        "    elif data_Y[i][1] == 1:\n",
        "      inactivationCount += 1\n",
        "  print(\"Activation : \", activationCount, \"Inactivation : \", inactivationCount)\n",
        "  return activationCount, inactivationCount\n",
        "\n",
        "print(\"AR\")\n",
        "AR_activation, AR_inactivation = count_activation(data_Y_AR)\n",
        "print(\"ER\")\n",
        "ER_activation, ER_inactivation = count_activation(data_Y_ER)"
      ],
      "execution_count": 21,
      "outputs": [
        {
          "output_type": "stream",
          "text": [
            "AR\n",
            "Activation :  380 Inactivation :  8977\n",
            "ER\n",
            "Activation :  937 Inactivation :  6756\n"
          ],
          "name": "stdout"
        }
      ]
    },
    {
      "cell_type": "code",
      "metadata": {
        "id": "fzNiFn0vatUQ"
      },
      "source": [
        "# split the training, validation and test dataset. train:validation:test=8:1:1\n",
        "from sklearn.model_selection import train_test_split\n",
        "\n",
        "#split training and test dataset from raw dataset\n",
        "X_temp_AR, X_test_AR, Y_temp_AR, Y_test_AR = train_test_split(data_X_AR, data_Y_AR, test_size=0.1, shuffle=True, stratify=data_Y_AR, random_state=10)\n",
        "X_temp_ER, X_test_ER, Y_temp_ER, Y_test_ER = train_test_split(data_X_ER, data_Y_ER, test_size=0.1, shuffle=True, stratify=data_Y_ER, random_state=10)\n",
        "\n",
        "#split training and validation dataset from training dataset\n",
        "X_train_AR, X_valid_AR, Y_train_AR, Y_valid_AR = train_test_split(X_temp_AR, Y_temp_AR, test_size=0.111, shuffle=True, stratify=Y_temp_AR, random_state=1)\n",
        "X_train_ER, X_valid_ER, Y_train_ER, Y_valid_ER = train_test_split(X_temp_ER, Y_temp_ER, test_size=0.111, shuffle=True, stratify=Y_temp_ER, random_state=1)"
      ],
      "execution_count": 22,
      "outputs": []
    },
    {
      "cell_type": "code",
      "metadata": {
        "id": "GpIeY5pDawmg",
        "colab": {
          "base_uri": "https://localhost:8080/"
        },
        "outputId": "2451f0c4-4ed9-40c9-b2d2-a25d1d72e6df"
      },
      "source": [
        "# check the shape of the splited data\n",
        "print(\"X_train_AR: \", X_train_AR.shape, \"Y_train_AR: \", Y_train_AR.shape)\n",
        "print(\"X_valid_AR: \", X_valid_AR.shape, \"Y_valid_AR: \", Y_valid_AR.shape)\n",
        "print(\"X_test_AR: \", X_test_AR.shape, \"Y_test_AR: \", Y_test_AR.shape)\n",
        "print(\"X_train_ER: \", X_train_ER.shape, \"Y_train_ER: \", Y_train_ER.shape)\n",
        "print(\"X_valid_ER: \", X_valid_ER.shape, \"Y_valid_ER: \", Y_valid_ER.shape)\n",
        "print(\"X_test_ER: \", X_test_ER.shape, \"Y_test_ER: \", Y_test_ER.shape)\n",
        "\n",
        "print(\"\\n<Final Splited Dataset Ratio>\")\n",
        "print(\"AR Dataset : train(%.02f %%), valid(%.02f %%), test(%.02f %%)\" %(float(len(X_train_AR)*100/(len(X_train_AR)+len(X_valid_AR)+len(X_test_AR))),\n",
        "                                                                           float(len(X_valid_AR)*100/(len(X_train_AR)+len(X_valid_AR)+len(X_test_AR))),\n",
        "                                                                           float(len(X_test_AR)*100/(len(X_train_AR)+len(X_valid_AR)+len(X_test_AR)))))\n",
        "print(\"ER Dataset : train(%.02f %%), valid(%.02f %%), test(%.02f %%)\" %(float(len(X_train_ER)*100/(len(X_train_ER)+len(X_valid_ER)+len(X_test_ER))),\n",
        "                                                                           float(len(X_valid_ER)*100/(len(X_train_ER)+len(X_valid_ER)+len(X_test_ER))),\n",
        "                                                                           float(len(X_test_ER)*100/(len(X_train_ER)+len(X_valid_ER)+len(X_test_ER)))))"
      ],
      "execution_count": 23,
      "outputs": [
        {
          "output_type": "stream",
          "text": [
            "X_train_AR:  (7486, 2048) Y_train_AR:  (7486, 2)\n",
            "X_valid_AR:  (935, 2048) Y_valid_AR:  (935, 2)\n",
            "X_test_AR:  (936, 2048) Y_test_AR:  (936, 2)\n",
            "X_train_ER:  (6154, 2048) Y_train_ER:  (6154, 2)\n",
            "X_valid_ER:  (769, 2048) Y_valid_ER:  (769, 2)\n",
            "X_test_ER:  (770, 2048) Y_test_ER:  (770, 2)\n",
            "\n",
            "<Final Splited Dataset Ratio>\n",
            "AR Dataset : train(80.00 %), valid(9.99 %), test(10.00 %)\n",
            "ER Dataset : train(79.99 %), valid(10.00 %), test(10.01 %)\n"
          ],
          "name": "stdout"
        }
      ]
    },
    {
      "cell_type": "markdown",
      "metadata": {
        "id": "jJiHwCoHHnt8"
      },
      "source": [
        "# Building Deep Neural Network (DNN)"
      ]
    },
    {
      "cell_type": "code",
      "metadata": {
        "id": "pxOc6dyfayan",
        "colab": {
          "base_uri": "https://localhost:8080/"
        },
        "outputId": "17eb97d9-9815-49a6-b97d-ef3578602740"
      },
      "source": [
        "# build a neural network model\n",
        "# the activation function of hidden layer is relu, and output is softmax\n",
        "\n",
        "def build_model():\n",
        "  # add layers to build a model\n",
        "  model = tf.keras.models.Sequential()\n",
        "  model.add(tf.keras.layers.Dense(units=1024, input_dim=2048, activation='relu'), )\n",
        "  model.add(tf.keras.layers.Dropout(0.2))\n",
        "  model.add(tf.keras.layers.Dense(units=512, activation='relu', activity_regularizer=tf.keras.regularizers.l2(1e-6)))\n",
        "  model.add(tf.keras.layers.Dropout(0.5))\n",
        "  model.add(tf.keras.layers.Dense(units=64, activation='relu', activity_regularizer=tf.keras.regularizers.l2(1e-5))) \n",
        "  model.add(tf.keras.layers.Dropout(0.5))\n",
        "  model.add(tf.keras.layers.Dense(units=2, activation='relu', activity_regularizer=tf.keras.regularizers.l2(1e-4)))\n",
        "  model.add(tf.keras.layers.Softmax(name=\"softmax\"))\n",
        "  # compile and return model\n",
        "  model.compile(optimizer=tf.keras.optimizers.SGD(learning_rate=0.01), loss=tf.keras.losses.CategoricalCrossentropy(from_logits=False), metrics=[tf.keras.metrics.AUC(name='auc')])\n",
        "  return model\n",
        "\n",
        "# make a prediction model for AR\n",
        "model_AR = build_model()\n",
        "model_AR.summary() # print summary of AR model"
      ],
      "execution_count": 24,
      "outputs": [
        {
          "output_type": "stream",
          "text": [
            "Model: \"sequential_2\"\n",
            "_________________________________________________________________\n",
            "Layer (type)                 Output Shape              Param #   \n",
            "=================================================================\n",
            "dense_8 (Dense)              (None, 1024)              2098176   \n",
            "_________________________________________________________________\n",
            "dropout_6 (Dropout)          (None, 1024)              0         \n",
            "_________________________________________________________________\n",
            "dense_9 (Dense)              (None, 512)               524800    \n",
            "_________________________________________________________________\n",
            "dropout_7 (Dropout)          (None, 512)               0         \n",
            "_________________________________________________________________\n",
            "dense_10 (Dense)             (None, 64)                32832     \n",
            "_________________________________________________________________\n",
            "dropout_8 (Dropout)          (None, 64)                0         \n",
            "_________________________________________________________________\n",
            "dense_11 (Dense)             (None, 2)                 130       \n",
            "_________________________________________________________________\n",
            "softmax (Softmax)            (None, 2)                 0         \n",
            "=================================================================\n",
            "Total params: 2,655,938\n",
            "Trainable params: 2,655,938\n",
            "Non-trainable params: 0\n",
            "_________________________________________________________________\n"
          ],
          "name": "stdout"
        }
      ]
    },
    {
      "cell_type": "code",
      "metadata": {
        "id": "u6YNYvgSa4n3",
        "colab": {
          "base_uri": "https://localhost:8080/"
        },
        "outputId": "5c08ee69-0437-4d2d-d016-688e3cf9cc04"
      },
      "source": [
        "# make a predictin model for ER\n",
        "model_ER = build_model()\n",
        "model_ER.summary()# print summary of ER model"
      ],
      "execution_count": 25,
      "outputs": [
        {
          "output_type": "stream",
          "text": [
            "Model: \"sequential_3\"\n",
            "_________________________________________________________________\n",
            "Layer (type)                 Output Shape              Param #   \n",
            "=================================================================\n",
            "dense_12 (Dense)             (None, 1024)              2098176   \n",
            "_________________________________________________________________\n",
            "dropout_9 (Dropout)          (None, 1024)              0         \n",
            "_________________________________________________________________\n",
            "dense_13 (Dense)             (None, 512)               524800    \n",
            "_________________________________________________________________\n",
            "dropout_10 (Dropout)         (None, 512)               0         \n",
            "_________________________________________________________________\n",
            "dense_14 (Dense)             (None, 64)                32832     \n",
            "_________________________________________________________________\n",
            "dropout_11 (Dropout)         (None, 64)                0         \n",
            "_________________________________________________________________\n",
            "dense_15 (Dense)             (None, 2)                 130       \n",
            "_________________________________________________________________\n",
            "softmax (Softmax)            (None, 2)                 0         \n",
            "=================================================================\n",
            "Total params: 2,655,938\n",
            "Trainable params: 2,655,938\n",
            "Non-trainable params: 0\n",
            "_________________________________________________________________\n"
          ],
          "name": "stdout"
        }
      ]
    },
    {
      "cell_type": "code",
      "metadata": {
        "id": "56H1jB6oa56R"
      },
      "source": [
        "# early stopping with validation dataset \n",
        "from keras.callbacks import EarlyStopping\n",
        "from keras.callbacks import ModelCheckpoint\n",
        "\n",
        "es_AR = EarlyStopping(monitor='val_loss', mode='min', verbose=1, patience=5)\n",
        "mc_AR = ModelCheckpoint('best_model_AR.h5', monitor='val_auc', mode='max', verbose=1, save_best_only=True)\n",
        "es_ER = EarlyStopping(monitor='val_loss', mode='min', verbose=1, patience=5)\n",
        "mc_ER = ModelCheckpoint('best_model_ER.h5', monitor='val_auc', mode='max', verbose=1, save_best_only=True)"
      ],
      "execution_count": 26,
      "outputs": []
    },
    {
      "cell_type": "code",
      "metadata": {
        "colab": {
          "base_uri": "https://localhost:8080/"
        },
        "id": "Xz3Y9t8Z0uh4",
        "outputId": "1f4a8ddf-ccec-46cf-8d7b-da0abaa4b589"
      },
      "source": [
        "# setting class_weight to solve inbalanced dataset problem\n",
        "print(\"AR activation: \", AR_activation/(AR_activation+AR_inactivation), \"AR inactivation: \", AR_inactivation/(AR_activation+AR_inactivation))\n",
        "print(\"ER activation: \", ER_activation/(ER_activation+ER_inactivation), \"ER inactivation: \", ER_inactivation/(ER_activation+ER_inactivation))\n",
        "\n",
        "class_weight_AR = {0: 0.65, 1 : 0.45}\n",
        "class_weight_ER = {0: 0.60, 1 : 0.40}"
      ],
      "execution_count": 27,
      "outputs": [
        {
          "output_type": "stream",
          "text": [
            "AR activation:  0.040611307042855614 AR inactivation:  0.9593886929571444\n",
            "ER activation:  0.1217990380865722 ER inactivation:  0.8782009619134278\n"
          ],
          "name": "stdout"
        }
      ]
    },
    {
      "cell_type": "markdown",
      "metadata": {
        "id": "DSKYRTvJaOuJ"
      },
      "source": [
        "To solve inbalanced dataset problem, I tried to weight specific ratios for class_weight. Since activation data is much more than inactivation data, I tired to multiply larger number to activation data to make balance. At first, I tried to multiply the ratio of activation or inactivation count about total dataset. However, the ratio was so radical that makes AUC score bad. So, I tried several test to find the proper ratio that makes better AUC score. As the result, for AR dataset, I multiplied 0.65 and 0.45 for each class_weight. For ER dataset, I multiplied 0.6 and 0.40 for each class_weight."
      ]
    },
    {
      "cell_type": "code",
      "metadata": {
        "id": "wn7nguUma-MW",
        "colab": {
          "base_uri": "https://localhost:8080/"
        },
        "outputId": "0e90e297-710a-4a08-a72f-ba50ed3f34b2"
      },
      "source": [
        "# training the model using training and validation set\n",
        "epochs = 100\n",
        "\n",
        "hist_AR = model_AR.fit(X_train_AR, Y_train_AR, validation_data=(X_valid_AR, Y_valid_AR), batch_size=32, epochs=epochs, verbose=1, callbacks=[es_AR, mc_AR], class_weight=class_weight_AR)\n",
        "hist_ER = model_ER.fit(X_train_ER, Y_train_ER, validation_data=(X_valid_ER, Y_valid_ER),batch_size=32, epochs=epochs, verbose=1, callbacks=[es_ER, mc_ER], class_weight=class_weight_ER)"
      ],
      "execution_count": 15,
      "outputs": [
        {
          "output_type": "stream",
          "text": [
            "Epoch 1/100\n",
            "229/234 [============================>.] - ETA: 0s - loss: 0.1571 - auc: 0.9575\n",
            "Epoch 00001: val_auc improved from -inf to 0.97249, saving model to best_model_AR.h5\n",
            "234/234 [==============================] - 1s 6ms/step - loss: 0.1568 - auc: 0.9575 - val_loss: 0.1913 - val_auc: 0.9725\n",
            "Epoch 2/100\n",
            "234/234 [==============================] - ETA: 0s - loss: 0.1095 - auc: 0.9735\n",
            "Epoch 00002: val_auc improved from 0.97249 to 0.97536, saving model to best_model_AR.h5\n",
            "234/234 [==============================] - 1s 5ms/step - loss: 0.1095 - auc: 0.9735 - val_loss: 0.1572 - val_auc: 0.9754\n",
            "Epoch 3/100\n",
            "229/234 [============================>.] - ETA: 0s - loss: 0.0956 - auc: 0.9771\n",
            "Epoch 00003: val_auc improved from 0.97536 to 0.97721, saving model to best_model_AR.h5\n",
            "234/234 [==============================] - 1s 5ms/step - loss: 0.0954 - auc: 0.9772 - val_loss: 0.1419 - val_auc: 0.9772\n",
            "Epoch 4/100\n",
            "233/234 [============================>.] - ETA: 0s - loss: 0.0858 - auc: 0.9806\n",
            "Epoch 00004: val_auc improved from 0.97721 to 0.97874, saving model to best_model_AR.h5\n",
            "234/234 [==============================] - 1s 6ms/step - loss: 0.0857 - auc: 0.9807 - val_loss: 0.1342 - val_auc: 0.9787\n",
            "Epoch 5/100\n",
            "231/234 [============================>.] - ETA: 0s - loss: 0.0830 - auc: 0.9814\n",
            "Epoch 00005: val_auc improved from 0.97874 to 0.98083, saving model to best_model_AR.h5\n",
            "234/234 [==============================] - 1s 6ms/step - loss: 0.0828 - auc: 0.9815 - val_loss: 0.1265 - val_auc: 0.9808\n",
            "Epoch 6/100\n",
            "229/234 [============================>.] - ETA: 0s - loss: 0.0773 - auc: 0.9836\n",
            "Epoch 00006: val_auc improved from 0.98083 to 0.98199, saving model to best_model_AR.h5\n",
            "234/234 [==============================] - 1s 5ms/step - loss: 0.0781 - auc: 0.9832 - val_loss: 0.1191 - val_auc: 0.9820\n",
            "Epoch 7/100\n",
            "229/234 [============================>.] - ETA: 0s - loss: 0.0771 - auc: 0.9826\n",
            "Epoch 00007: val_auc improved from 0.98199 to 0.98388, saving model to best_model_AR.h5\n",
            "234/234 [==============================] - 1s 6ms/step - loss: 0.0776 - auc: 0.9824 - val_loss: 0.1172 - val_auc: 0.9839\n",
            "Epoch 8/100\n",
            "225/234 [===========================>..] - ETA: 0s - loss: 0.0739 - auc: 0.9844\n",
            "Epoch 00008: val_auc improved from 0.98388 to 0.98431, saving model to best_model_AR.h5\n",
            "234/234 [==============================] - 1s 5ms/step - loss: 0.0735 - auc: 0.9844 - val_loss: 0.1108 - val_auc: 0.9843\n",
            "Epoch 9/100\n",
            "226/234 [===========================>..] - ETA: 0s - loss: 0.0713 - auc: 0.9852\n",
            "Epoch 00009: val_auc improved from 0.98431 to 0.98505, saving model to best_model_AR.h5\n",
            "234/234 [==============================] - 1s 5ms/step - loss: 0.0701 - auc: 0.9857 - val_loss: 0.1071 - val_auc: 0.9851\n",
            "Epoch 10/100\n",
            "231/234 [============================>.] - ETA: 0s - loss: 0.0670 - auc: 0.9870\n",
            "Epoch 00010: val_auc improved from 0.98505 to 0.98633, saving model to best_model_AR.h5\n",
            "234/234 [==============================] - 1s 5ms/step - loss: 0.0669 - auc: 0.9871 - val_loss: 0.1061 - val_auc: 0.9863\n",
            "Epoch 11/100\n",
            "233/234 [============================>.] - ETA: 0s - loss: 0.0676 - auc: 0.9863\n",
            "Epoch 00011: val_auc improved from 0.98633 to 0.98661, saving model to best_model_AR.h5\n",
            "234/234 [==============================] - 1s 6ms/step - loss: 0.0674 - auc: 0.9863 - val_loss: 0.1043 - val_auc: 0.9866\n",
            "Epoch 12/100\n",
            "234/234 [==============================] - ETA: 0s - loss: 0.0665 - auc: 0.9868\n",
            "Epoch 00012: val_auc improved from 0.98661 to 0.98738, saving model to best_model_AR.h5\n",
            "234/234 [==============================] - 1s 5ms/step - loss: 0.0665 - auc: 0.9868 - val_loss: 0.1051 - val_auc: 0.9874\n",
            "Epoch 13/100\n",
            "232/234 [============================>.] - ETA: 0s - loss: 0.0642 - auc: 0.9878\n",
            "Epoch 00013: val_auc improved from 0.98738 to 0.98760, saving model to best_model_AR.h5\n",
            "234/234 [==============================] - 1s 5ms/step - loss: 0.0640 - auc: 0.9879 - val_loss: 0.1025 - val_auc: 0.9876\n",
            "Epoch 14/100\n",
            "230/234 [============================>.] - ETA: 0s - loss: 0.0613 - auc: 0.9891\n",
            "Epoch 00014: val_auc did not improve from 0.98760\n",
            "234/234 [==============================] - 1s 5ms/step - loss: 0.0613 - auc: 0.9891 - val_loss: 0.0995 - val_auc: 0.9874\n",
            "Epoch 15/100\n",
            "228/234 [============================>.] - ETA: 0s - loss: 0.0594 - auc: 0.9903\n",
            "Epoch 00015: val_auc did not improve from 0.98760\n",
            "234/234 [==============================] - 1s 5ms/step - loss: 0.0602 - auc: 0.9900 - val_loss: 0.0997 - val_auc: 0.9875\n",
            "Epoch 16/100\n",
            "234/234 [==============================] - ETA: 0s - loss: 0.0605 - auc: 0.9895\n",
            "Epoch 00016: val_auc improved from 0.98760 to 0.98800, saving model to best_model_AR.h5\n",
            "234/234 [==============================] - 1s 5ms/step - loss: 0.0605 - auc: 0.9895 - val_loss: 0.1005 - val_auc: 0.9880\n",
            "Epoch 17/100\n",
            "229/234 [============================>.] - ETA: 0s - loss: 0.0584 - auc: 0.9904\n",
            "Epoch 00017: val_auc improved from 0.98800 to 0.98858, saving model to best_model_AR.h5\n",
            "234/234 [==============================] - 1s 5ms/step - loss: 0.0582 - auc: 0.9904 - val_loss: 0.0994 - val_auc: 0.9886\n",
            "Epoch 18/100\n",
            "227/234 [============================>.] - ETA: 0s - loss: 0.0586 - auc: 0.9907\n",
            "Epoch 00018: val_auc did not improve from 0.98858\n",
            "234/234 [==============================] - 1s 5ms/step - loss: 0.0588 - auc: 0.9906 - val_loss: 0.0990 - val_auc: 0.9885\n",
            "Epoch 19/100\n",
            "224/234 [===========================>..] - ETA: 0s - loss: 0.0569 - auc: 0.9916\n",
            "Epoch 00019: val_auc did not improve from 0.98858\n",
            "234/234 [==============================] - 1s 5ms/step - loss: 0.0580 - auc: 0.9910 - val_loss: 0.0999 - val_auc: 0.9885\n",
            "Epoch 20/100\n",
            "226/234 [===========================>..] - ETA: 0s - loss: 0.0565 - auc: 0.9915\n",
            "Epoch 00020: val_auc did not improve from 0.98858\n",
            "234/234 [==============================] - 1s 5ms/step - loss: 0.0566 - auc: 0.9915 - val_loss: 0.0962 - val_auc: 0.9879\n",
            "Epoch 21/100\n",
            "225/234 [===========================>..] - ETA: 0s - loss: 0.0558 - auc: 0.9917\n",
            "Epoch 00021: val_auc did not improve from 0.98858\n",
            "234/234 [==============================] - 1s 5ms/step - loss: 0.0561 - auc: 0.9914 - val_loss: 0.0961 - val_auc: 0.9879\n",
            "Epoch 22/100\n",
            "230/234 [============================>.] - ETA: 0s - loss: 0.0566 - auc: 0.9913\n",
            "Epoch 00022: val_auc did not improve from 0.98858\n",
            "234/234 [==============================] - 1s 5ms/step - loss: 0.0560 - auc: 0.9914 - val_loss: 0.0970 - val_auc: 0.9878\n",
            "Epoch 23/100\n",
            "225/234 [===========================>..] - ETA: 0s - loss: 0.0530 - auc: 0.9932\n",
            "Epoch 00023: val_auc did not improve from 0.98858\n",
            "234/234 [==============================] - 1s 5ms/step - loss: 0.0523 - auc: 0.9934 - val_loss: 0.0957 - val_auc: 0.9884\n",
            "Epoch 24/100\n",
            "232/234 [============================>.] - ETA: 0s - loss: 0.0526 - auc: 0.9935\n",
            "Epoch 00024: val_auc did not improve from 0.98858\n",
            "234/234 [==============================] - 1s 5ms/step - loss: 0.0527 - auc: 0.9935 - val_loss: 0.0969 - val_auc: 0.9881\n",
            "Epoch 25/100\n",
            "222/234 [===========================>..] - ETA: 0s - loss: 0.0540 - auc: 0.9920\n",
            "Epoch 00025: val_auc did not improve from 0.98858\n",
            "234/234 [==============================] - 1s 5ms/step - loss: 0.0535 - auc: 0.9922 - val_loss: 0.0966 - val_auc: 0.9885\n",
            "Epoch 26/100\n",
            "229/234 [============================>.] - ETA: 0s - loss: 0.0501 - auc: 0.9938\n",
            "Epoch 00026: val_auc improved from 0.98858 to 0.98876, saving model to best_model_AR.h5\n",
            "234/234 [==============================] - 1s 5ms/step - loss: 0.0507 - auc: 0.9936 - val_loss: 0.0978 - val_auc: 0.9888\n",
            "Epoch 27/100\n",
            "222/234 [===========================>..] - ETA: 0s - loss: 0.0498 - auc: 0.9942\n",
            "Epoch 00027: val_auc did not improve from 0.98876\n",
            "234/234 [==============================] - 1s 5ms/step - loss: 0.0493 - auc: 0.9944 - val_loss: 0.0959 - val_auc: 0.9887\n",
            "Epoch 28/100\n",
            "224/234 [===========================>..] - ETA: 0s - loss: 0.0495 - auc: 0.9942\n",
            "Epoch 00028: val_auc improved from 0.98876 to 0.98878, saving model to best_model_AR.h5\n",
            "234/234 [==============================] - 1s 5ms/step - loss: 0.0483 - auc: 0.9944 - val_loss: 0.0969 - val_auc: 0.9888\n",
            "Epoch 00028: early stopping\n",
            "Epoch 1/100\n",
            "191/193 [============================>.] - ETA: 0s - loss: 0.2456 - auc: 0.8531\n",
            "Epoch 00001: val_auc improved from -inf to 0.87694, saving model to best_model_ER.h5\n",
            "193/193 [==============================] - 1s 6ms/step - loss: 0.2454 - auc: 0.8533 - val_loss: 0.4308 - val_auc: 0.8769\n",
            "Epoch 2/100\n",
            "191/193 [============================>.] - ETA: 0s - loss: 0.2147 - auc: 0.8837\n",
            "Epoch 00002: val_auc improved from 0.87694 to 0.89343, saving model to best_model_ER.h5\n",
            "193/193 [==============================] - 1s 5ms/step - loss: 0.2151 - auc: 0.8831 - val_loss: 0.4003 - val_auc: 0.8934\n",
            "Epoch 3/100\n",
            "193/193 [==============================] - ETA: 0s - loss: 0.2036 - auc: 0.8913\n",
            "Epoch 00003: val_auc improved from 0.89343 to 0.90063, saving model to best_model_ER.h5\n",
            "193/193 [==============================] - 1s 5ms/step - loss: 0.2036 - auc: 0.8913 - val_loss: 0.3996 - val_auc: 0.9006\n",
            "Epoch 4/100\n",
            "187/193 [============================>.] - ETA: 0s - loss: 0.1957 - auc: 0.9013\n",
            "Epoch 00004: val_auc improved from 0.90063 to 0.90197, saving model to best_model_ER.h5\n",
            "193/193 [==============================] - 1s 5ms/step - loss: 0.1950 - auc: 0.9021 - val_loss: 0.3867 - val_auc: 0.9020\n",
            "Epoch 5/100\n",
            "185/193 [===========================>..] - ETA: 0s - loss: 0.1889 - auc: 0.9108\n",
            "Epoch 00005: val_auc improved from 0.90197 to 0.90648, saving model to best_model_ER.h5\n",
            "193/193 [==============================] - 1s 5ms/step - loss: 0.1901 - auc: 0.9096 - val_loss: 0.3732 - val_auc: 0.9065\n",
            "Epoch 6/100\n",
            "193/193 [==============================] - ETA: 0s - loss: 0.1872 - auc: 0.9118\n",
            "Epoch 00006: val_auc improved from 0.90648 to 0.90940, saving model to best_model_ER.h5\n",
            "193/193 [==============================] - 1s 5ms/step - loss: 0.1872 - auc: 0.9118 - val_loss: 0.3638 - val_auc: 0.9094\n",
            "Epoch 7/100\n",
            "193/193 [==============================] - ETA: 0s - loss: 0.1828 - auc: 0.9169\n",
            "Epoch 00007: val_auc improved from 0.90940 to 0.91153, saving model to best_model_ER.h5\n",
            "193/193 [==============================] - 1s 5ms/step - loss: 0.1828 - auc: 0.9169 - val_loss: 0.3610 - val_auc: 0.9115\n",
            "Epoch 8/100\n",
            "188/193 [============================>.] - ETA: 0s - loss: 0.1760 - auc: 0.9250\n",
            "Epoch 00008: val_auc improved from 0.91153 to 0.91352, saving model to best_model_ER.h5\n",
            "193/193 [==============================] - 1s 5ms/step - loss: 0.1764 - auc: 0.9245 - val_loss: 0.3522 - val_auc: 0.9135\n",
            "Epoch 9/100\n",
            "188/193 [============================>.] - ETA: 0s - loss: 0.1776 - auc: 0.9238\n",
            "Epoch 00009: val_auc improved from 0.91352 to 0.91556, saving model to best_model_ER.h5\n",
            "193/193 [==============================] - 1s 5ms/step - loss: 0.1769 - auc: 0.9243 - val_loss: 0.3577 - val_auc: 0.9156\n",
            "Epoch 10/100\n",
            "193/193 [==============================] - ETA: 0s - loss: 0.1742 - auc: 0.9263\n",
            "Epoch 00010: val_auc improved from 0.91556 to 0.91626, saving model to best_model_ER.h5\n",
            "193/193 [==============================] - 1s 5ms/step - loss: 0.1742 - auc: 0.9263 - val_loss: 0.3524 - val_auc: 0.9163\n",
            "Epoch 11/100\n",
            "183/193 [===========================>..] - ETA: 0s - loss: 0.1720 - auc: 0.9293\n",
            "Epoch 00011: val_auc improved from 0.91626 to 0.91707, saving model to best_model_ER.h5\n",
            "193/193 [==============================] - 1s 5ms/step - loss: 0.1721 - auc: 0.9291 - val_loss: 0.3517 - val_auc: 0.9171\n",
            "Epoch 12/100\n",
            "186/193 [===========================>..] - ETA: 0s - loss: 0.1721 - auc: 0.9289\n",
            "Epoch 00012: val_auc improved from 0.91707 to 0.91804, saving model to best_model_ER.h5\n",
            "193/193 [==============================] - 1s 5ms/step - loss: 0.1709 - auc: 0.9300 - val_loss: 0.3425 - val_auc: 0.9180\n",
            "Epoch 13/100\n",
            "185/193 [===========================>..] - ETA: 0s - loss: 0.1686 - auc: 0.9320\n",
            "Epoch 00013: val_auc improved from 0.91804 to 0.91810, saving model to best_model_ER.h5\n",
            "193/193 [==============================] - 1s 6ms/step - loss: 0.1689 - auc: 0.9319 - val_loss: 0.3538 - val_auc: 0.9181\n",
            "Epoch 14/100\n",
            "192/193 [============================>.] - ETA: 0s - loss: 0.1661 - auc: 0.9350\n",
            "Epoch 00014: val_auc improved from 0.91810 to 0.91998, saving model to best_model_ER.h5\n",
            "193/193 [==============================] - 1s 5ms/step - loss: 0.1659 - auc: 0.9351 - val_loss: 0.3391 - val_auc: 0.9200\n",
            "Epoch 15/100\n",
            "188/193 [============================>.] - ETA: 0s - loss: 0.1618 - auc: 0.9382\n",
            "Epoch 00015: val_auc did not improve from 0.91998\n",
            "193/193 [==============================] - 1s 5ms/step - loss: 0.1635 - auc: 0.9369 - val_loss: 0.3568 - val_auc: 0.9193\n",
            "Epoch 16/100\n",
            "187/193 [============================>.] - ETA: 0s - loss: 0.1631 - auc: 0.9364\n",
            "Epoch 00016: val_auc improved from 0.91998 to 0.92100, saving model to best_model_ER.h5\n",
            "193/193 [==============================] - 1s 5ms/step - loss: 0.1631 - auc: 0.9365 - val_loss: 0.3396 - val_auc: 0.9210\n",
            "Epoch 17/100\n",
            "187/193 [============================>.] - ETA: 0s - loss: 0.1596 - auc: 0.9409\n",
            "Epoch 00017: val_auc did not improve from 0.92100\n",
            "193/193 [==============================] - 1s 5ms/step - loss: 0.1598 - auc: 0.9408 - val_loss: 0.3421 - val_auc: 0.9210\n",
            "Epoch 18/100\n",
            "189/193 [============================>.] - ETA: 0s - loss: 0.1579 - auc: 0.9416\n",
            "Epoch 00018: val_auc did not improve from 0.92100\n",
            "193/193 [==============================] - 1s 5ms/step - loss: 0.1582 - auc: 0.9413 - val_loss: 0.3363 - val_auc: 0.9208\n",
            "Epoch 19/100\n",
            "193/193 [==============================] - ETA: 0s - loss: 0.1580 - auc: 0.9406\n",
            "Epoch 00019: val_auc improved from 0.92100 to 0.92281, saving model to best_model_ER.h5\n",
            "193/193 [==============================] - 1s 5ms/step - loss: 0.1580 - auc: 0.9406 - val_loss: 0.3303 - val_auc: 0.9228\n",
            "Epoch 20/100\n",
            "186/193 [===========================>..] - ETA: 0s - loss: 0.1555 - auc: 0.9428\n",
            "Epoch 00020: val_auc improved from 0.92281 to 0.92328, saving model to best_model_ER.h5\n",
            "193/193 [==============================] - 1s 5ms/step - loss: 0.1550 - auc: 0.9431 - val_loss: 0.3311 - val_auc: 0.9233\n",
            "Epoch 21/100\n",
            "193/193 [==============================] - ETA: 0s - loss: 0.1523 - auc: 0.9455\n",
            "Epoch 00021: val_auc improved from 0.92328 to 0.92393, saving model to best_model_ER.h5\n",
            "193/193 [==============================] - 1s 5ms/step - loss: 0.1523 - auc: 0.9455 - val_loss: 0.3268 - val_auc: 0.9239\n",
            "Epoch 22/100\n",
            "190/193 [============================>.] - ETA: 0s - loss: 0.1509 - auc: 0.9461\n",
            "Epoch 00022: val_auc did not improve from 0.92393\n",
            "193/193 [==============================] - 1s 5ms/step - loss: 0.1511 - auc: 0.9461 - val_loss: 0.3315 - val_auc: 0.9238\n",
            "Epoch 23/100\n",
            "193/193 [==============================] - ETA: 0s - loss: 0.1466 - auc: 0.9497\n",
            "Epoch 00023: val_auc did not improve from 0.92393\n",
            "193/193 [==============================] - 1s 5ms/step - loss: 0.1466 - auc: 0.9497 - val_loss: 0.3283 - val_auc: 0.9236\n",
            "Epoch 24/100\n",
            "188/193 [============================>.] - ETA: 0s - loss: 0.1455 - auc: 0.9502\n",
            "Epoch 00024: val_auc improved from 0.92393 to 0.92456, saving model to best_model_ER.h5\n",
            "193/193 [==============================] - 1s 5ms/step - loss: 0.1455 - auc: 0.9503 - val_loss: 0.3266 - val_auc: 0.9246\n",
            "Epoch 25/100\n",
            "185/193 [===========================>..] - ETA: 0s - loss: 0.1451 - auc: 0.9501\n",
            "Epoch 00025: val_auc did not improve from 0.92456\n",
            "193/193 [==============================] - 1s 5ms/step - loss: 0.1452 - auc: 0.9501 - val_loss: 0.3259 - val_auc: 0.9241\n",
            "Epoch 26/100\n",
            "181/193 [===========================>..] - ETA: 0s - loss: 0.1417 - auc: 0.9530\n",
            "Epoch 00026: val_auc did not improve from 0.92456\n",
            "193/193 [==============================] - 1s 5ms/step - loss: 0.1410 - auc: 0.9536 - val_loss: 0.3252 - val_auc: 0.9243\n",
            "Epoch 27/100\n",
            "193/193 [==============================] - ETA: 0s - loss: 0.1396 - auc: 0.9545\n",
            "Epoch 00027: val_auc did not improve from 0.92456\n",
            "193/193 [==============================] - 1s 5ms/step - loss: 0.1396 - auc: 0.9545 - val_loss: 0.3271 - val_auc: 0.9242\n",
            "Epoch 28/100\n",
            "184/193 [===========================>..] - ETA: 0s - loss: 0.1366 - auc: 0.9568\n",
            "Epoch 00028: val_auc did not improve from 0.92456\n",
            "193/193 [==============================] - 1s 5ms/step - loss: 0.1369 - auc: 0.9566 - val_loss: 0.3287 - val_auc: 0.9240\n",
            "Epoch 29/100\n",
            "192/193 [============================>.] - ETA: 0s - loss: 0.1376 - auc: 0.9552\n",
            "Epoch 00029: val_auc did not improve from 0.92456\n",
            "193/193 [==============================] - 1s 5ms/step - loss: 0.1376 - auc: 0.9552 - val_loss: 0.3262 - val_auc: 0.9242\n",
            "Epoch 30/100\n",
            "187/193 [============================>.] - ETA: 0s - loss: 0.1315 - auc: 0.9597\n",
            "Epoch 00030: val_auc did not improve from 0.92456\n",
            "193/193 [==============================] - 1s 5ms/step - loss: 0.1306 - auc: 0.9603 - val_loss: 0.3279 - val_auc: 0.9238\n",
            "Epoch 31/100\n",
            "191/193 [============================>.] - ETA: 0s - loss: 0.1315 - auc: 0.9590\n",
            "Epoch 00031: val_auc did not improve from 0.92456\n",
            "193/193 [==============================] - 1s 5ms/step - loss: 0.1312 - auc: 0.9592 - val_loss: 0.3271 - val_auc: 0.9243\n",
            "Epoch 00031: early stopping\n"
          ],
          "name": "stdout"
        }
      ]
    },
    {
      "cell_type": "markdown",
      "metadata": {
        "id": "V_slxdyZkGdJ"
      },
      "source": [
        "# Evaluating Model"
      ]
    },
    {
      "cell_type": "markdown",
      "metadata": {
        "id": "fNkQ68HBqZY3"
      },
      "source": [
        "To solve inbalanced dataset problem, I tried one more method. Rather than using accuracy, I used AUC score to evaluate model. In each step of epoch, calculate the AUC score. Using this index, best model was chosen. When I evaluate model with accuracy, model showed very high accuracy, but it doesn't have ability to detect activited data. Since out datasets have much of activity data, model showed tendency to overfit to activity data. Which means that model often decide 'inactivity data' to any input. This situation makes really high accuracy but it has no meaning. Thus, I changed evaluating method using AUC score."
      ]
    },
    {
      "cell_type": "code",
      "metadata": {
        "id": "PoA4UZuCbAv8",
        "colab": {
          "base_uri": "https://localhost:8080/",
          "height": 1000
        },
        "outputId": "03ff8f6f-2a06-464c-d793-838b2083d508"
      },
      "source": [
        "# plot the accuracy and loss value of each model.\n",
        "import matplotlib.pyplot as plt\n",
        "\n",
        "def plot_history(history, name):\n",
        "  hist = pd.DataFrame(history.history)\n",
        "  hist['epoch'] = history.epoch\n",
        "\n",
        "  plt.figure()\n",
        "  plt.xlabel('Epoch')\n",
        "  plt.ylabel('Loss')\n",
        "  plt.title(\"Loss Variation in \"+name+\" Dataset\")\n",
        "  plt.plot(hist['epoch'], hist['loss'],\n",
        "           label='Train Error')\n",
        "  plt.plot(hist['epoch'], hist['val_loss'],\n",
        "           label = 'Validation Error')\n",
        "  plt.legend(loc='upper left')\n",
        "\n",
        "  plt.figure()\n",
        "  plt.xlabel('Epoch')\n",
        "  plt.ylabel('AUC')\n",
        "  plt.title(\"AUC Variation in \"+name+\" Dataset\")\n",
        "  plt.plot(hist['epoch'], hist['auc'],\n",
        "           label='Train AUC')\n",
        "  plt.plot(hist['epoch'], hist['val_auc'],\n",
        "           label = 'Validation AUC')\n",
        "  plt.legend(loc='upper left')\n",
        "\n",
        "plot_history(hist_AR, \"AR\")\n",
        "plot_history(hist_ER, \"ER\")"
      ],
      "execution_count": 16,
      "outputs": [
        {
          "output_type": "display_data",
          "data": {
            "image/png": "[encoded data removed]",
            "text/plain": [
              "<Figure size 432x288 with 1 Axes>"
            ]
          },
          "metadata": {
            "tags": [],
            "needs_background": "light"
          }
        },
        {
          "output_type": "display_data",
          "data": {
            "image/png": "[encoded data removed]",
            "text/plain": [
              "<Figure size 432x288 with 1 Axes>"
            ]
          },
          "metadata": {
            "tags": [],
            "needs_background": "light"
          }
        },
        {
          "output_type": "display_data",
          "data": {
            "image/png": "[encoded data removed]",
            "text/plain": [
              "<Figure size 432x288 with 1 Axes>"
            ]
          },
          "metadata": {
            "tags": [],
            "needs_background": "light"
          }
        },
        {
          "output_type": "display_data",
          "data": {
            "image/png": "[encoded data removed]",
            "text/plain": [
              "<Figure size 432x288 with 1 Axes>"
            ]
          },
          "metadata": {
            "tags": [],
            "needs_background": "light"
          }
        }
      ]
    },
    {
      "cell_type": "code",
      "metadata": {
        "id": "z95B1LIejBXy"
      },
      "source": [
        "def toBinary(data):\n",
        "  temp = []\n",
        "  for i in range(len(data)):\n",
        "    if(data[i][0]>data[i][1]): #activation\n",
        "      temp.append(1)\n",
        "    else:\n",
        "      temp.append(0)\n",
        "  return temp\n",
        "\n",
        "def toScore(X_test, model):\n",
        "  Y_pred = model.predict(X_test)\n",
        "  temp = []\n",
        "  for i in range(len(Y_pred)):\n",
        "    temp.append(Y_pred[i][0])\n",
        "  return temp\n",
        "\n",
        "y_true_AR = toBinary(Y_test_AR)\n",
        "y_pred_AR = toBinary(model_AR.predict(X_test_AR))\n",
        "y_score_AR = toScore(X_test_AR, model_AR)\n",
        "\n",
        "y_true_ER = toBinary(Y_test_ER)\n",
        "y_pred_ER = toBinary(model_ER.predict(X_test_ER))\n",
        "y_score_ER = toScore(X_test_ER, model_ER)"
      ],
      "execution_count": 17,
      "outputs": []
    },
    {
      "cell_type": "code",
      "metadata": {
        "id": "dyB55-txbDtl",
        "colab": {
          "base_uri": "https://localhost:8080/",
          "height": 533
        },
        "outputId": "98341300-ccd8-42c0-9d45-149f304b3ffb"
      },
      "source": [
        "# evaluate the prediction model using test dataset.\n",
        "import sklearn.metrics as metrics\n",
        "from sklearn.metrics import classification_report, roc_curve, auc, confusion_matrix\n",
        "# Run classifier with cross-validation and plot ROC curves\n",
        "def evaluate_model(y_true, y_pred, y_score):\n",
        "  target_names = ['activation', 'inactivation']\n",
        "  print(\"<Classification Report>\")\n",
        "  print(classification_report(y_true, y_pred, target_names=target_names))\n",
        "\n",
        "  print(\"<ROC curve and AUC Score>\")\n",
        "  fpr, tpr, thresholds = metrics.roc_curve(y_true, y_score, pos_label=1)\n",
        "  roc_auc = metrics.auc(fpr, tpr)\n",
        "  plt.figure()\n",
        "  plt.plot(fpr, tpr, label='ROC curve (AUC = %0.2f)' % roc_auc)\n",
        "  plt.plot([0, 1], [0, 1], 'k--')\n",
        "  plt.xlim([0.0, 1.0])\n",
        "  plt.ylim([0.0, 1.05])\n",
        "  plt.xlabel('False Positive Rate')\n",
        "  plt.ylabel('True Positive Rate')\n",
        "  plt.title('Receiver operating characteristic')\n",
        "  plt.legend(loc=\"lower right\")\n",
        "  plt.show()\n",
        "\n",
        "  matrix = confusion_matrix(y_true, y_pred)\n",
        "  print(\"<Confusion Matrix>\")\n",
        "  print(\"TN: \",matrix[0][0],  \"FP: \", matrix[0][1] )\n",
        "  print(\"FN: \", matrix[1][0], \"TP: \", matrix[1][1])\n",
        "  return\n",
        "\n",
        "\n",
        "# AUC of AR dataset\n",
        "evaluate_model(y_true_AR, y_pred_AR, y_score_AR)"
      ],
      "execution_count": 28,
      "outputs": [
        {
          "output_type": "stream",
          "text": [
            "<Classification Report>\n",
            "              precision    recall  f1-score   support\n",
            "\n",
            "  activation       0.98      1.00      0.99       898\n",
            "inactivation       0.89      0.63      0.74        38\n",
            "\n",
            "    accuracy                           0.98       936\n",
            "   macro avg       0.94      0.81      0.86       936\n",
            "weighted avg       0.98      0.98      0.98       936\n",
            "\n",
            "<ROC curve and AUC Score>\n"
          ],
          "name": "stdout"
        },
        {
          "output_type": "display_data",
          "data": {
            "image/png": "[encoded data removed]",
            "text/plain": [
              "<Figure size 432x288 with 1 Axes>"
            ]
          },
          "metadata": {
            "tags": [],
            "needs_background": "light"
          }
        },
        {
          "output_type": "stream",
          "text": [
            "<Confusion Matrix>\n",
            "TN:  895 FP:  3\n",
            "FN:  14 TP:  24\n"
          ],
          "name": "stdout"
        }
      ]
    },
    {
      "cell_type": "code",
      "metadata": {
        "id": "_EUQJpCNbHGb",
        "colab": {
          "base_uri": "https://localhost:8080/",
          "height": 533
        },
        "outputId": "16a90b3f-cfe7-43ef-903f-58a595404608"
      },
      "source": [
        "# AUC of ER dataset\n",
        "evaluate_model(y_true_ER, y_pred_ER, y_score_ER)"
      ],
      "execution_count": 29,
      "outputs": [
        {
          "output_type": "stream",
          "text": [
            "<Classification Report>\n",
            "              precision    recall  f1-score   support\n",
            "\n",
            "  activation       0.92      0.98      0.95       676\n",
            "inactivation       0.71      0.36      0.48        94\n",
            "\n",
            "    accuracy                           0.90       770\n",
            "   macro avg       0.81      0.67      0.71       770\n",
            "weighted avg       0.89      0.90      0.89       770\n",
            "\n",
            "<ROC curve and AUC Score>\n"
          ],
          "name": "stdout"
        },
        {
          "output_type": "display_data",
          "data": {
            "image/png": "[encoded data removed]",
            "text/plain": [
              "<Figure size 432x288 with 1 Axes>"
            ]
          },
          "metadata": {
            "tags": [],
            "needs_background": "light"
          }
        },
        {
          "output_type": "stream",
          "text": [
            "<Confusion Matrix>\n",
            "TN:  662 FP:  14\n",
            "FN:  60 TP:  34\n"
          ],
          "name": "stdout"
        }
      ]
    },
    {
      "cell_type": "code",
      "metadata": {
        "id": "KEm6B2lXo7lw"
      },
      "source": [
        ""
      ],
      "execution_count": 27,
      "outputs": []
    }
  ]
}