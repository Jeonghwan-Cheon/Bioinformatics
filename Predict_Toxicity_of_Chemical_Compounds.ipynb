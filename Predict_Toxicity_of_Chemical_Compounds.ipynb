{
  "nbformat": 4,
  "nbformat_minor": 0,
  "metadata": {
    "colab": {
      "name": "Predict Toxicity of Chemical Compounds.ipynb",
      "provenance": [],
      "collapsed_sections": [],
      "toc_visible": true,
      "authorship_tag": "ABX9TyMRDYawVYDfh2ApUV7ZHChb",
      "include_colab_link": true
    },
    "kernelspec": {
      "name": "python3",
      "display_name": "Python 3"
    },
    "accelerator": "GPU"
  },
  "cells": [
    {
      "cell_type": "markdown",
      "metadata": {
        "id": "view-in-github",
        "colab_type": "text"
      },
      "source": [
        "<a href=\"https://colab.research.google.com/github/Jeonghwan-Cheon/Predict-Tocitity-of-Chemical-Compound/blob/master/Predict_Toxicity_of_Chemical_Compounds.ipynb\" target=\"_parent\"><img src=\"https://colab.research.google.com/assets/colab-badge.svg\" alt=\"Open In Colab\"/></a>"
      ]
    },
    {
      "cell_type": "markdown",
      "metadata": {
        "id": "SAAb82kzbLGn"
      },
      "source": [
        "# Predict Toxicity of Chemical Compounds\n",
        "\n",
        "\n",
        "> 2020 Fall Semester Bioinformatics  \n",
        "Project #5  \n",
        "Jeonghwan Cheon (20190643)  \n",
        "\n",
        "\n",
        "\n"
      ]
    },
    {
      "cell_type": "markdown",
      "metadata": {
        "id": "yppWjV4GbofW"
      },
      "source": [
        "### Project Goal\n",
        "* Predict the toxicity of compounds using a neural network model \n",
        "* Datasets: 'nr-ar.smiles' and 'nr-er.smiles' file. \n",
        "* Each file contains 'smiles string of compound', 'array data', and 'activity value' \n",
        "* Activity value is marked as 0 when a compound is non-toxic, and 1 vice versa. \n",
        "\n",
        "\n",
        "> Mayr, Andreas, et al. \"DeepTox: toxicity prediction using deep learning.\" Frontiers in Environmental Science 3 (2016): 80.\n",
        "\n",
        "\n",
        "\n",
        "\n",
        "\n"
      ]
    },
    {
      "cell_type": "markdown",
      "metadata": {
        "id": "cEJ3BjpgcDO0"
      },
      "source": [
        "### Guideline for Project\n",
        "\n",
        "1. Build a neural network model for predicting the toxicity of compounds.\n",
        "2. Randomly split the dataset to training set and test set using train_test_split from sklearn (8:2)\n",
        "3. Train your model using the training dataset (and optimize your model using validation set).\n",
        "4. Report the ROC-AUC score of the test dataset using the trained model. (https://scikit-learn.org/stable/auto_examples/model_selection/plot_roc_crossval.html#sphx-glr-auto-examples-model-selection-plot-roc-crossval-py)\n",
        "5. Use google colab (or whatever you want)\n",
        "6. Upload \".ipynb\" file or link to your google colab code \n",
        "\n"
      ]
    },
    {
      "cell_type": "markdown",
      "metadata": {
        "id": "1AyDHQted_ng"
      },
      "source": [
        "# Setup Environment"
      ]
    },
    {
      "cell_type": "code",
      "metadata": {
        "id": "8etdVObnZlOW"
      },
      "source": [
        "# install rdkit library on colab environment\n",
        "!wget -c https://repo.continuum.io/miniconda/Miniconda3-py37_4.8.3-Linux-x86_64.sh\n",
        "!chmod +x Miniconda3-py37_4.8.3-Linux-x86_64.sh\n",
        "!time bash ./Miniconda3-py37_4.8.3-Linux-x86_64.sh -b -f -p /usr/local\n",
        "!time conda install -q -y -c conda-forge rdkit"
      ],
      "execution_count": null,
      "outputs": []
    },
    {
      "cell_type": "code",
      "metadata": {
        "id": "dnzrfufuZwaa"
      },
      "source": [
        "# %matplotlib inline\n",
        "import matplotlib.pyplot as plt\n",
        "import sys\n",
        "import os\n",
        "sys.path.append('/usr/local/lib/python3.7/site-packages/')\n",
        "\n",
        "#import basic python packages\n",
        "import numpy as np\n",
        "import pandas as pd\n",
        "\n",
        "from rdkit import Chem\n",
        "from rdkit.Chem import DataStructs\n",
        "from rdkit.Chem import AllChem\n",
        "from rdkit.Chem import RDConfig\n",
        "from rdkit import rdBase\n",
        "\n",
        "import tensorflow as tf\n",
        "import tensorflow.keras as keras\n",
        "from keras import Model\n",
        "from keras.backend import one_hot\n",
        "from keras.layers import Activation, Dense, Dropout, Input\n",
        "from keras.utils import np_utils"
      ],
      "execution_count": null,
      "outputs": []
    },
    {
      "cell_type": "code",
      "metadata": {
        "id": "HiwPTvoIaKrS",
        "colab": {
          "base_uri": "https://localhost:8080/"
        },
        "outputId": "33d3a342-165e-424e-b5a2-28baf9556bc9"
      },
      "source": [
        "# load data from google drive\n",
        "from google.colab import drive\n",
        "drive.mount('/gdrive', force_remount=True)\n",
        "address = '/gdrive/My Drive/Development Project/Predict Toxicity of Chemical Compounds/'\n",
        "data_AR = address+'nr-ar.smiles'\n",
        "data_ER = address+'nr-er.smiles'"
      ],
      "execution_count": null,
      "outputs": [
        {
          "output_type": "stream",
          "text": [
            "Mounted at /gdrive\n"
          ],
          "name": "stdout"
        }
      ]
    },
    {
      "cell_type": "markdown",
      "metadata": {
        "id": "fR2OUL2THY_-"
      },
      "source": [
        "# Dataset Processing"
      ]
    },
    {
      "cell_type": "code",
      "metadata": {
        "id": "qf4DumwUacON",
        "colab": {
          "base_uri": "https://localhost:8080/"
        },
        "outputId": "1cd66cbb-4a07-4769-d398-17fde26ed235"
      },
      "source": [
        "# save the uploaded data as Pandas dataframe\n",
        "import io\n",
        "df_AR = pd.read_csv(data_AR, sep = '\\t', names = ['smiles', 'array', 'activity'])\n",
        "df_ER = pd.read_csv(data_ER, sep = '\\t', names = ['smiles', 'array', 'activity'])\n",
        "\n",
        "smi_AR = df_AR['smiles']\n",
        "smi_ER = df_ER['smiles']\n",
        "activity_AR = df_AR['activity']\n",
        "activity_ER = df_ER['activity']\n",
        "\n",
        "# print the head of dataset\n",
        "print(\"---------- smiles data of AR ----------\")\n",
        "print(smi_AR.head())\n",
        "print(\"\\n---------- activity data of AR ----------\")\n",
        "print(activity_AR.head())\n",
        "print(\"\\n---------- smiles data of ER ----------\")\n",
        "print(smi_ER.head())\n",
        "print(\"\\n---------- activity data of AR ----------\")\n",
        "print(activity_ER.head())"
      ],
      "execution_count": null,
      "outputs": [
        {
          "output_type": "stream",
          "text": [
            "---------- smiles data of AR ----------\n",
            "0    CC(O)=O.CCNC(=O)[C@@H]1CCCN1C(=O)[C@H](CCCNC(N...\n",
            "1      Cl.CCCCCCOC1=CC=C(C(=N)N(CCCC)CCCC)C2=C1C=CC=C2\n",
            "2    Cl.Cl.COCC(=O)O[C@]3(CCN(C)CCCC1=NC2=C(N1)C=CC...\n",
            "3    Cl.Cl.CCCCC(CC)CNC(=N)NC(=N)NCCCCCCNC(=N)NC(=N...\n",
            "4           [Br-].CCCCCCCCCCCC[N+](C)(C)CCOC1=CC=CC=C1\n",
            "Name: smiles, dtype: object\n",
            "\n",
            "---------- activity data of AR ----------\n",
            "0    0\n",
            "1    0\n",
            "2    0\n",
            "3    0\n",
            "4    0\n",
            "Name: activity, dtype: int64\n",
            "\n",
            "---------- smiles data of ER ----------\n",
            "0    Cl.[H][C@@]1(CCCCN1)[C@@H](O)C2=CC(=NC3=C2C=CC...\n",
            "1    COC1=CC=C2[C@H]([C@H](C3=CC=CC=C3)C(C)(C)OC2=C...\n",
            "2              NC1=NC(N)=C2N=C(C3=CC=CC=C3)C(N)=NC2=N1\n",
            "3    CC1(C)CNC(NC1)=NN=C(\\C=C\\C2=CC=C(C=C2)C(F)(F)F...\n",
            "4    [Cl-].CCCCCCCCCC[N+](C)(CCCCCCCCCC)CCC[Si](OC)...\n",
            "Name: smiles, dtype: object\n",
            "\n",
            "---------- activity data of AR ----------\n",
            "0    1\n",
            "1    0\n",
            "2    0\n",
            "3    1\n",
            "4    0\n",
            "Name: activity, dtype: int64\n"
          ],
          "name": "stdout"
        }
      ]
    },
    {
      "cell_type": "code",
      "metadata": {
        "id": "o0evDkmradVo",
        "colab": {
          "base_uri": "https://localhost:8080/"
        },
        "outputId": "2b9531c8-35cf-4a2e-df35-f70d6707b412"
      },
      "source": [
        "# data preprocessing; convert SMILES string to 2048 bit Fingerprint\n",
        "def preprocessing(data_X, data_Y):\n",
        "  data_x = []\n",
        "  data_y = []\n",
        "\n",
        "  if len(data_X)==len(data_Y):\n",
        "    length = len(data_X)\n",
        "  else :\n",
        "    print(\"Error: two input data have different size\")\n",
        "\n",
        "  lossDataCount = 0\n",
        "\n",
        "  for i in range(length):\n",
        "    mol = Chem.MolFromSmiles(data_X[i])\n",
        "    if mol != None:\n",
        "      # Smiles data process\n",
        "      fp = Chem.RDKFingerprint(mol)\n",
        "      data_x.append(list(map(int, fp.ToBitString())))\n",
        "      # Activaty data process ([activation, inactivation])\n",
        "      if data_Y[i] == 1:\n",
        "        data_y.append([1, 0])\n",
        "      else:\n",
        "        data_y.append([0, 1])\n",
        "    else:\n",
        "      lossDataCount += 1;\n",
        "\n",
        "  print(\"Total \", lossDataCount, \"data deleted\")\n",
        "\n",
        "  return np.array(data_x), np.array(data_y)\n",
        "\n",
        "data_X_AR, data_Y_AR = preprocessing(smi_AR, activity_AR)\n",
        "data_X_ER, data_Y_ER = preprocessing(smi_ER, activity_ER)"
      ],
      "execution_count": null,
      "outputs": [
        {
          "output_type": "stream",
          "text": [
            "Total  3 data deleted\n",
            "Total  2 data deleted\n"
          ],
          "name": "stdout"
        }
      ]
    },
    {
      "cell_type": "markdown",
      "metadata": {
        "id": "OOUgIV3XYqQq"
      },
      "source": [
        "Since some of the smiles data cannot be converted to fingerprint, those data were deleted. In AR dataset, 3 data deleted. In ER dataset, 2 data deleted."
      ]
    },
    {
      "cell_type": "code",
      "metadata": {
        "id": "x7ZHLHSjaqCA",
        "colab": {
          "base_uri": "https://localhost:8080/"
        },
        "outputId": "c09b4b63-9982-44cc-ec9c-adf072503bb9"
      },
      "source": [
        "# check the shape of the raw data\n",
        "print(\"data_X_AR: \", data_X_AR.shape)\n",
        "print(\"data_Y_AR: \", data_Y_AR.shape)\n",
        "print(\"data_X_ER: \", data_X_ER.shape)\n",
        "print(\"data_Y_ER: \", data_Y_ER.shape)"
      ],
      "execution_count": null,
      "outputs": [
        {
          "output_type": "stream",
          "text": [
            "data_X_AR:  (9359, 2048)\n",
            "data_Y_AR:  (9359, 2)\n",
            "data_X_ER:  (7695, 2048)\n",
            "data_Y_ER:  (7695, 2)\n"
          ],
          "name": "stdout"
        }
      ]
    },
    {
      "cell_type": "code",
      "metadata": {
        "colab": {
          "base_uri": "https://localhost:8080/"
        },
        "id": "sf1T0HQIOGu9",
        "outputId": "a1119895-b49a-4bb6-c982-222e505cd9d2"
      },
      "source": [
        "def count_activation(data_Y):\n",
        "  activationCount = 0\n",
        "  inactivationCount = 0\n",
        "  for i in range(len(data_Y)):\n",
        "    if data_Y[i][0] == 1:\n",
        "      activationCount += 1\n",
        "    elif data_Y[i][1] == 1:\n",
        "      inactivationCount += 1\n",
        "  print(\"Activation : \", activationCount, \"Inactivation : \", inactivationCount)\n",
        "  return activationCount, inactivationCount\n",
        "\n",
        "print(\"AR\")\n",
        "AR_activation, AR_inactivation = count_activation(data_Y_AR)\n",
        "print(\"ER\")\n",
        "ER_activation, ER_inactivation = count_activation(data_Y_ER)"
      ],
      "execution_count": null,
      "outputs": [
        {
          "output_type": "stream",
          "text": [
            "AR\n",
            "Activation :  380 Inactivation :  8979\n",
            "ER\n",
            "Activation :  937 Inactivation :  6758\n"
          ],
          "name": "stdout"
        }
      ]
    },
    {
      "cell_type": "code",
      "metadata": {
        "id": "fzNiFn0vatUQ"
      },
      "source": [
        "# split the training, validation and test dataset. train:validation:test=8:1:1\n",
        "from sklearn.model_selection import train_test_split\n",
        "\n",
        "#split training and test dataset from raw dataset\n",
        "X_temp_AR, X_test_AR, Y_temp_AR, Y_test_AR = train_test_split(data_X_AR, data_Y_AR, test_size=0.1, shuffle=True, stratify=data_Y_AR, random_state=10)\n",
        "X_temp_ER, X_test_ER, Y_temp_ER, Y_test_ER = train_test_split(data_X_ER, data_Y_ER, test_size=0.1, shuffle=True, stratify=data_Y_ER, random_state=10)\n",
        "\n",
        "#split training and validation dataset from training dataset\n",
        "X_train_AR, X_valid_AR, Y_train_AR, Y_valid_AR = train_test_split(X_temp_AR, Y_temp_AR, test_size=0.111, shuffle=True, stratify=Y_temp_AR, random_state=1)\n",
        "X_train_ER, X_valid_ER, Y_train_ER, Y_valid_ER = train_test_split(X_temp_ER, Y_temp_ER, test_size=0.111, shuffle=True, stratify=Y_temp_ER, random_state=1)"
      ],
      "execution_count": null,
      "outputs": []
    },
    {
      "cell_type": "code",
      "metadata": {
        "id": "GpIeY5pDawmg",
        "colab": {
          "base_uri": "https://localhost:8080/"
        },
        "outputId": "e5bc56ae-6610-48e5-ef72-ce21f2fd43b5"
      },
      "source": [
        "# check the shape of the splited data\n",
        "print(\"X_train_AR: \", X_train_AR.shape, \"Y_train_AR: \", Y_train_AR.shape)\n",
        "print(\"X_valid_AR: \", X_valid_AR.shape, \"Y_valid_AR: \", Y_valid_AR.shape)\n",
        "print(\"X_test_AR: \", X_test_AR.shape, \"Y_test_AR: \", Y_test_AR.shape)\n",
        "print(\"X_train_ER: \", X_train_ER.shape, \"Y_train_ER: \", Y_train_ER.shape)\n",
        "print(\"X_valid_ER: \", X_valid_ER.shape, \"Y_valid_ER: \", Y_valid_ER.shape)\n",
        "print(\"X_test_ER: \", X_test_ER.shape, \"Y_test_ER: \", Y_test_ER.shape)\n",
        "\n",
        "print(\"\\n<Final Splited Dataset Ratio>\")\n",
        "print(\"AR Dataset : train(%.02f %%), valid(%.02f %%), test(%.02f %%)\" %(float(len(X_train_AR)*100/(len(X_train_AR)+len(X_valid_AR)+len(X_test_AR))),\n",
        "                                                                           float(len(X_valid_AR)*100/(len(X_train_AR)+len(X_valid_AR)+len(X_test_AR))),\n",
        "                                                                           float(len(X_test_AR)*100/(len(X_train_AR)+len(X_valid_AR)+len(X_test_AR)))))\n",
        "print(\"ER Dataset : train(%.02f %%), valid(%.02f %%), test(%.02f %%)\" %(float(len(X_train_ER)*100/(len(X_train_ER)+len(X_valid_ER)+len(X_test_ER))),\n",
        "                                                                           float(len(X_valid_ER)*100/(len(X_train_ER)+len(X_valid_ER)+len(X_test_ER))),\n",
        "                                                                           float(len(X_test_ER)*100/(len(X_train_ER)+len(X_valid_ER)+len(X_test_ER)))))"
      ],
      "execution_count": null,
      "outputs": [
        {
          "output_type": "stream",
          "text": [
            "X_train_AR:  (7488, 2048) Y_train_AR:  (7488, 2)\n",
            "X_valid_AR:  (935, 2048) Y_valid_AR:  (935, 2)\n",
            "X_test_AR:  (936, 2048) Y_test_AR:  (936, 2)\n",
            "X_train_ER:  (6156, 2048) Y_train_ER:  (6156, 2)\n",
            "X_valid_ER:  (769, 2048) Y_valid_ER:  (769, 2)\n",
            "X_test_ER:  (770, 2048) Y_test_ER:  (770, 2)\n",
            "\n",
            "<Final Splited Dataset Ratio>\n",
            "AR Dataset : train(80.01 %), valid(9.99 %), test(10.00 %)\n",
            "ER Dataset : train(80.00 %), valid(9.99 %), test(10.01 %)\n"
          ],
          "name": "stdout"
        }
      ]
    },
    {
      "cell_type": "markdown",
      "metadata": {
        "id": "jJiHwCoHHnt8"
      },
      "source": [
        "# Building Deep Neural Network (DNN)"
      ]
    },
    {
      "cell_type": "code",
      "metadata": {
        "id": "pxOc6dyfayan",
        "colab": {
          "base_uri": "https://localhost:8080/"
        },
        "outputId": "70e98d7a-bc68-42a7-88dc-9cee81d7b06d"
      },
      "source": [
        "# build a neural network model\n",
        "# the activation function of hidden layer is relu, and output is softmax\n",
        "\n",
        "def build_model():\n",
        "  # add layers to build a model\n",
        "  model = tf.keras.models.Sequential()\n",
        "  model.add(tf.keras.layers.Dense(units=1024, input_dim=2048, activation='relu'), )\n",
        "  model.add(tf.keras.layers.Dropout(0.2))\n",
        "  model.add(tf.keras.layers.Dense(units=512, activation='relu', activity_regularizer=tf.keras.regularizers.l2(1e-6)))\n",
        "  model.add(tf.keras.layers.Dropout(0.5))\n",
        "  model.add(tf.keras.layers.Dense(units=64, activation='relu', activity_regularizer=tf.keras.regularizers.l2(1e-5))) \n",
        "  model.add(tf.keras.layers.Dropout(0.5))\n",
        "  model.add(tf.keras.layers.Dense(units=2, activation='relu', activity_regularizer=tf.keras.regularizers.l2(1e-4)))\n",
        "  model.add(tf.keras.layers.Softmax(name=\"softmax\"))\n",
        "  # compile and return model\n",
        "  model.compile(optimizer=tf.keras.optimizers.SGD(learning_rate=0.01), loss=tf.keras.losses.CategoricalCrossentropy(from_logits=False), metrics=[tf.keras.metrics.AUC(name='auc')])\n",
        "  return model\n",
        "\n",
        "# make a prediction model for AR\n",
        "model_AR = build_model()\n",
        "model_AR.summary() # print summary of AR model"
      ],
      "execution_count": null,
      "outputs": [
        {
          "output_type": "stream",
          "text": [
            "Model: \"sequential_105\"\n",
            "_________________________________________________________________\n",
            "Layer (type)                 Output Shape              Param #   \n",
            "=================================================================\n",
            "dense_361 (Dense)            (None, 1024)              2098176   \n",
            "_________________________________________________________________\n",
            "dropout_242 (Dropout)        (None, 1024)              0         \n",
            "_________________________________________________________________\n",
            "dense_362 (Dense)            (None, 512)               524800    \n",
            "_________________________________________________________________\n",
            "dropout_243 (Dropout)        (None, 512)               0         \n",
            "_________________________________________________________________\n",
            "dense_363 (Dense)            (None, 64)                32832     \n",
            "_________________________________________________________________\n",
            "dropout_244 (Dropout)        (None, 64)                0         \n",
            "_________________________________________________________________\n",
            "dense_364 (Dense)            (None, 2)                 130       \n",
            "_________________________________________________________________\n",
            "softmax (Softmax)            (None, 2)                 0         \n",
            "=================================================================\n",
            "Total params: 2,655,938\n",
            "Trainable params: 2,655,938\n",
            "Non-trainable params: 0\n",
            "_________________________________________________________________\n"
          ],
          "name": "stdout"
        }
      ]
    },
    {
      "cell_type": "code",
      "metadata": {
        "id": "u6YNYvgSa4n3",
        "colab": {
          "base_uri": "https://localhost:8080/"
        },
        "outputId": "4075d5a0-4aa5-45a5-a5bd-f75b4cc2ffd1"
      },
      "source": [
        "# make a predictin model for ER\n",
        "model_ER = build_model()\n",
        "model_ER.summary()# print summary of ER model"
      ],
      "execution_count": null,
      "outputs": [
        {
          "output_type": "stream",
          "text": [
            "Model: \"sequential_106\"\n",
            "_________________________________________________________________\n",
            "Layer (type)                 Output Shape              Param #   \n",
            "=================================================================\n",
            "dense_365 (Dense)            (None, 1024)              2098176   \n",
            "_________________________________________________________________\n",
            "dropout_245 (Dropout)        (None, 1024)              0         \n",
            "_________________________________________________________________\n",
            "dense_366 (Dense)            (None, 512)               524800    \n",
            "_________________________________________________________________\n",
            "dropout_246 (Dropout)        (None, 512)               0         \n",
            "_________________________________________________________________\n",
            "dense_367 (Dense)            (None, 64)                32832     \n",
            "_________________________________________________________________\n",
            "dropout_247 (Dropout)        (None, 64)                0         \n",
            "_________________________________________________________________\n",
            "dense_368 (Dense)            (None, 2)                 130       \n",
            "_________________________________________________________________\n",
            "softmax (Softmax)            (None, 2)                 0         \n",
            "=================================================================\n",
            "Total params: 2,655,938\n",
            "Trainable params: 2,655,938\n",
            "Non-trainable params: 0\n",
            "_________________________________________________________________\n"
          ],
          "name": "stdout"
        }
      ]
    },
    {
      "cell_type": "code",
      "metadata": {
        "id": "56H1jB6oa56R"
      },
      "source": [
        "# early stopping with validation dataset \n",
        "from keras.callbacks import EarlyStopping\n",
        "from keras.callbacks import ModelCheckpoint\n",
        "\n",
        "es_AR = EarlyStopping(monitor='val_loss', mode='min', verbose=1, patience=5)\n",
        "mc_AR = ModelCheckpoint('best_model_AR.h5', monitor='val_auc', mode='max', verbose=1, save_best_only=True)\n",
        "es_ER = EarlyStopping(monitor='val_loss', mode='min', verbose=1, patience=5)\n",
        "mc_ER = ModelCheckpoint('best_model_ER.h5', monitor='val_auc', mode='max', verbose=1, save_best_only=True)"
      ],
      "execution_count": null,
      "outputs": []
    },
    {
      "cell_type": "code",
      "metadata": {
        "colab": {
          "base_uri": "https://localhost:8080/"
        },
        "id": "Xz3Y9t8Z0uh4",
        "outputId": "44061865-2761-4bae-9452-f3f9abc13e97"
      },
      "source": [
        "# setting class_weight to solve inbalanced dataset problem\n",
        "print(\"AR activation: \", AR_activation/(AR_activation+AR_inactivation), \"AR inactivation: \", AR_inactivation/(AR_activation+AR_inactivation))\n",
        "print(\"ER activation: \", ER_activation/(ER_activation+ER_inactivation), \"ER inactivation: \", ER_inactivation/(ER_activation+ER_inactivation))\n",
        "\n",
        "class_weight_AR = {0: 0.65, 1 : 0.45}\n",
        "class_weight_ER = {0: 0.60, 1 : 0.40}"
      ],
      "execution_count": null,
      "outputs": [
        {
          "output_type": "stream",
          "text": [
            "AR activation:  0.04060262848594935 AR inactivation:  0.9593973715140507\n",
            "ER activation:  0.12176738141650423 ER inactivation:  0.8782326185834958\n"
          ],
          "name": "stdout"
        }
      ]
    },
    {
      "cell_type": "markdown",
      "metadata": {
        "id": "DSKYRTvJaOuJ"
      },
      "source": [
        "To solve inbalanced dataset problem, I tried to weight specific ratios for class_weight. Since activation data is much more than inactivation data, I tired to multiply larger number to activation data to make balance. At first, I tried to multiply the ratio of activation or inactivation count about total dataset. However, the ratio was so radical that makes AUC score bad. So, I tried several test to find the proper ratio that makes better AUC score. As the result, for AR dataset, I multiplied 0.65 and 0.45 for each class_weight. For ER dataset, I multiplied 0.6 and 0.40 for each class_weight."
      ]
    },
    {
      "cell_type": "code",
      "metadata": {
        "id": "wn7nguUma-MW",
        "colab": {
          "base_uri": "https://localhost:8080/"
        },
        "outputId": "9a21407c-dcb8-410e-9795-47955ec2d75d"
      },
      "source": [
        "# training the model using training and validation set\n",
        "epochs = 100\n",
        "\n",
        "hist_AR = model_AR.fit(X_train_AR, Y_train_AR, validation_data=(X_valid_AR, Y_valid_AR), batch_size=32, epochs=epochs, verbose=1, callbacks=[es_AR, mc_AR], class_weight=class_weight_AR)\n",
        "hist_ER = model_ER.fit(X_train_ER, Y_train_ER, validation_data=(X_valid_ER, Y_valid_ER),batch_size=32, epochs=epochs, verbose=1, callbacks=[es_ER, mc_ER], class_weight=class_weight_ER)"
      ],
      "execution_count": null,
      "outputs": [
        {
          "output_type": "stream",
          "text": [
            "Epoch 1/100\n",
            "220/234 [===========================>..] - ETA: 0s - loss: 0.1847 - auc: 0.9453\n",
            "Epoch 00001: val_auc improved from -inf to 0.96931, saving model to best_model_AR.h5\n",
            "234/234 [==============================] - 1s 5ms/step - loss: 0.1844 - auc: 0.9452 - val_loss: 0.2242 - val_auc: 0.9693\n",
            "Epoch 2/100\n",
            "234/234 [==============================] - ETA: 0s - loss: 0.1150 - auc: 0.9720\n",
            "Epoch 00002: val_auc improved from 0.96931 to 0.97313, saving model to best_model_AR.h5\n",
            "234/234 [==============================] - 1s 4ms/step - loss: 0.1150 - auc: 0.9720 - val_loss: 0.1706 - val_auc: 0.9731\n",
            "Epoch 3/100\n",
            "225/234 [===========================>..] - ETA: 0s - loss: 0.1001 - auc: 0.9762\n",
            "Epoch 00003: val_auc improved from 0.97313 to 0.97592, saving model to best_model_AR.h5\n",
            "234/234 [==============================] - 1s 4ms/step - loss: 0.0989 - auc: 0.9767 - val_loss: 0.1473 - val_auc: 0.9759\n",
            "Epoch 4/100\n",
            "227/234 [============================>.] - ETA: 0s - loss: 0.0888 - auc: 0.9798\n",
            "Epoch 00004: val_auc improved from 0.97592 to 0.98021, saving model to best_model_AR.h5\n",
            "234/234 [==============================] - 1s 4ms/step - loss: 0.0894 - auc: 0.9795 - val_loss: 0.1391 - val_auc: 0.9802\n",
            "Epoch 5/100\n",
            "225/234 [===========================>..] - ETA: 0s - loss: 0.0810 - auc: 0.9829\n",
            "Epoch 00005: val_auc improved from 0.98021 to 0.98095, saving model to best_model_AR.h5\n",
            "234/234 [==============================] - 1s 4ms/step - loss: 0.0816 - auc: 0.9826 - val_loss: 0.1277 - val_auc: 0.9809\n",
            "Epoch 6/100\n",
            "225/234 [===========================>..] - ETA: 0s - loss: 0.0841 - auc: 0.9808\n",
            "Epoch 00006: val_auc improved from 0.98095 to 0.98341, saving model to best_model_AR.h5\n",
            "234/234 [==============================] - 1s 4ms/step - loss: 0.0827 - auc: 0.9814 - val_loss: 0.1243 - val_auc: 0.9834\n",
            "Epoch 7/100\n",
            "232/234 [============================>.] - ETA: 0s - loss: 0.0814 - auc: 0.9818\n",
            "Epoch 00007: val_auc improved from 0.98341 to 0.98532, saving model to best_model_AR.h5\n",
            "234/234 [==============================] - 1s 4ms/step - loss: 0.0816 - auc: 0.9817 - val_loss: 0.1216 - val_auc: 0.9853\n",
            "Epoch 8/100\n",
            "226/234 [===========================>..] - ETA: 0s - loss: 0.0783 - auc: 0.9834\n",
            "Epoch 00008: val_auc improved from 0.98532 to 0.98536, saving model to best_model_AR.h5\n",
            "234/234 [==============================] - 1s 4ms/step - loss: 0.0773 - auc: 0.9839 - val_loss: 0.1166 - val_auc: 0.9854\n",
            "Epoch 9/100\n",
            "224/234 [===========================>..] - ETA: 0s - loss: 0.0751 - auc: 0.9842\n",
            "Epoch 00009: val_auc improved from 0.98536 to 0.98601, saving model to best_model_AR.h5\n",
            "234/234 [==============================] - 1s 4ms/step - loss: 0.0751 - auc: 0.9842 - val_loss: 0.1146 - val_auc: 0.9860\n",
            "Epoch 10/100\n",
            "229/234 [============================>.] - ETA: 0s - loss: 0.0704 - auc: 0.9869\n",
            "Epoch 00010: val_auc improved from 0.98601 to 0.98773, saving model to best_model_AR.h5\n",
            "234/234 [==============================] - 1s 4ms/step - loss: 0.0712 - auc: 0.9866 - val_loss: 0.1160 - val_auc: 0.9877\n",
            "Epoch 11/100\n",
            "226/234 [===========================>..] - ETA: 0s - loss: 0.0706 - auc: 0.9874\n",
            "Epoch 00011: val_auc did not improve from 0.98773\n",
            "234/234 [==============================] - 1s 4ms/step - loss: 0.0716 - auc: 0.9872 - val_loss: 0.1118 - val_auc: 0.9876\n",
            "Epoch 12/100\n",
            "231/234 [============================>.] - ETA: 0s - loss: 0.0686 - auc: 0.9878\n",
            "Epoch 00012: val_auc did not improve from 0.98773\n",
            "234/234 [==============================] - 1s 4ms/step - loss: 0.0688 - auc: 0.9877 - val_loss: 0.1103 - val_auc: 0.9871\n",
            "Epoch 13/100\n",
            "225/234 [===========================>..] - ETA: 0s - loss: 0.0689 - auc: 0.9876\n",
            "Epoch 00013: val_auc improved from 0.98773 to 0.98794, saving model to best_model_AR.h5\n",
            "234/234 [==============================] - 1s 4ms/step - loss: 0.0684 - auc: 0.9879 - val_loss: 0.1091 - val_auc: 0.9879\n",
            "Epoch 14/100\n",
            "225/234 [===========================>..] - ETA: 0s - loss: 0.0650 - auc: 0.9896\n",
            "Epoch 00014: val_auc improved from 0.98794 to 0.98840, saving model to best_model_AR.h5\n",
            "234/234 [==============================] - 1s 4ms/step - loss: 0.0647 - auc: 0.9897 - val_loss: 0.1056 - val_auc: 0.9884\n",
            "Epoch 15/100\n",
            "225/234 [===========================>..] - ETA: 0s - loss: 0.0639 - auc: 0.9893\n",
            "Epoch 00015: val_auc improved from 0.98840 to 0.98865, saving model to best_model_AR.h5\n",
            "234/234 [==============================] - 1s 4ms/step - loss: 0.0642 - auc: 0.9892 - val_loss: 0.1010 - val_auc: 0.9886\n",
            "Epoch 16/100\n",
            "233/234 [============================>.] - ETA: 0s - loss: 0.0611 - auc: 0.9907\n",
            "Epoch 00016: val_auc did not improve from 0.98865\n",
            "234/234 [==============================] - 1s 4ms/step - loss: 0.0615 - auc: 0.9906 - val_loss: 0.0991 - val_auc: 0.9885\n",
            "Epoch 17/100\n",
            "227/234 [============================>.] - ETA: 0s - loss: 0.0609 - auc: 0.9908\n",
            "Epoch 00017: val_auc did not improve from 0.98865\n",
            "234/234 [==============================] - 1s 4ms/step - loss: 0.0603 - auc: 0.9910 - val_loss: 0.0970 - val_auc: 0.9885\n",
            "Epoch 18/100\n",
            "234/234 [==============================] - ETA: 0s - loss: 0.0599 - auc: 0.9908\n",
            "Epoch 00018: val_auc did not improve from 0.98865\n",
            "234/234 [==============================] - 1s 4ms/step - loss: 0.0599 - auc: 0.9908 - val_loss: 0.0967 - val_auc: 0.9878\n",
            "Epoch 19/100\n",
            "232/234 [============================>.] - ETA: 0s - loss: 0.0582 - auc: 0.9918\n",
            "Epoch 00019: val_auc improved from 0.98865 to 0.98895, saving model to best_model_AR.h5\n",
            "234/234 [==============================] - 1s 4ms/step - loss: 0.0579 - auc: 0.9919 - val_loss: 0.0954 - val_auc: 0.9890\n",
            "Epoch 20/100\n",
            "223/234 [===========================>..] - ETA: 0s - loss: 0.0555 - auc: 0.9920\n",
            "Epoch 00020: val_auc improved from 0.98895 to 0.98919, saving model to best_model_AR.h5\n",
            "234/234 [==============================] - 1s 4ms/step - loss: 0.0567 - auc: 0.9917 - val_loss: 0.0938 - val_auc: 0.9892\n",
            "Epoch 21/100\n",
            "222/234 [===========================>..] - ETA: 0s - loss: 0.0551 - auc: 0.9922\n",
            "Epoch 00021: val_auc improved from 0.98919 to 0.98933, saving model to best_model_AR.h5\n",
            "234/234 [==============================] - 1s 4ms/step - loss: 0.0560 - auc: 0.9920 - val_loss: 0.0961 - val_auc: 0.9893\n",
            "Epoch 22/100\n",
            "227/234 [============================>.] - ETA: 0s - loss: 0.0562 - auc: 0.9920\n",
            "Epoch 00022: val_auc did not improve from 0.98933\n",
            "234/234 [==============================] - 1s 4ms/step - loss: 0.0561 - auc: 0.9921 - val_loss: 0.0940 - val_auc: 0.9889\n",
            "Epoch 23/100\n",
            "225/234 [===========================>..] - ETA: 0s - loss: 0.0554 - auc: 0.9924\n",
            "Epoch 00023: val_auc did not improve from 0.98933\n",
            "234/234 [==============================] - 1s 4ms/step - loss: 0.0550 - auc: 0.9926 - val_loss: 0.0928 - val_auc: 0.9887\n",
            "Epoch 24/100\n",
            "232/234 [============================>.] - ETA: 0s - loss: 0.0511 - auc: 0.9943\n",
            "Epoch 00024: val_auc did not improve from 0.98933\n",
            "234/234 [==============================] - 1s 4ms/step - loss: 0.0513 - auc: 0.9942 - val_loss: 0.0918 - val_auc: 0.9885\n",
            "Epoch 25/100\n",
            "234/234 [==============================] - ETA: 0s - loss: 0.0526 - auc: 0.9932\n",
            "Epoch 00025: val_auc did not improve from 0.98933\n",
            "234/234 [==============================] - 1s 4ms/step - loss: 0.0526 - auc: 0.9932 - val_loss: 0.0924 - val_auc: 0.9889\n",
            "Epoch 26/100\n",
            "230/234 [============================>.] - ETA: 0s - loss: 0.0533 - auc: 0.9933\n",
            "Epoch 00026: val_auc improved from 0.98933 to 0.98948, saving model to best_model_AR.h5\n",
            "234/234 [==============================] - 1s 4ms/step - loss: 0.0533 - auc: 0.9933 - val_loss: 0.0927 - val_auc: 0.9895\n",
            "Epoch 27/100\n",
            "221/234 [===========================>..] - ETA: 0s - loss: 0.0500 - auc: 0.9941\n",
            "Epoch 00027: val_auc did not improve from 0.98948\n",
            "234/234 [==============================] - 1s 4ms/step - loss: 0.0509 - auc: 0.9938 - val_loss: 0.0923 - val_auc: 0.9886\n",
            "Epoch 28/100\n",
            "226/234 [===========================>..] - ETA: 0s - loss: 0.0472 - auc: 0.9949\n",
            "Epoch 00028: val_auc did not improve from 0.98948\n",
            "234/234 [==============================] - 1s 4ms/step - loss: 0.0486 - auc: 0.9946 - val_loss: 0.0931 - val_auc: 0.9884\n",
            "Epoch 29/100\n",
            "225/234 [===========================>..] - ETA: 0s - loss: 0.0481 - auc: 0.9946\n",
            "Epoch 00029: val_auc did not improve from 0.98948\n",
            "234/234 [==============================] - 1s 4ms/step - loss: 0.0479 - auc: 0.9947 - val_loss: 0.0930 - val_auc: 0.9881\n",
            "Epoch 00029: early stopping\n",
            "Epoch 1/100\n",
            "188/193 [============================>.] - ETA: 0s - loss: 0.2653 - auc: 0.7798\n",
            "Epoch 00001: val_auc improved from -inf to 0.87436, saving model to best_model_ER.h5\n",
            "193/193 [==============================] - 1s 8ms/step - loss: 0.2651 - auc: 0.7821 - val_loss: 0.4531 - val_auc: 0.8744\n",
            "Epoch 2/100\n",
            "184/193 [===========================>..] - ETA: 0s - loss: 0.2259 - auc: 0.8784\n",
            "Epoch 00002: val_auc improved from 0.87436 to 0.89162, saving model to best_model_ER.h5\n",
            "193/193 [==============================] - 1s 5ms/step - loss: 0.2261 - auc: 0.8782 - val_loss: 0.4113 - val_auc: 0.8916\n",
            "Epoch 3/100\n",
            "192/193 [============================>.] - ETA: 0s - loss: 0.2092 - auc: 0.8910\n",
            "Epoch 00003: val_auc improved from 0.89162 to 0.90725, saving model to best_model_ER.h5\n",
            "193/193 [==============================] - 1s 5ms/step - loss: 0.2094 - auc: 0.8908 - val_loss: 0.3901 - val_auc: 0.9072\n",
            "Epoch 4/100\n",
            "193/193 [==============================] - ETA: 0s - loss: 0.1980 - auc: 0.9022\n",
            "Epoch 00004: val_auc improved from 0.90725 to 0.91142, saving model to best_model_ER.h5\n",
            "193/193 [==============================] - 1s 5ms/step - loss: 0.1980 - auc: 0.9022 - val_loss: 0.3701 - val_auc: 0.9114\n",
            "Epoch 5/100\n",
            "185/193 [===========================>..] - ETA: 0s - loss: 0.1913 - auc: 0.9088\n",
            "Epoch 00005: val_auc improved from 0.91142 to 0.91529, saving model to best_model_ER.h5\n",
            "193/193 [==============================] - 1s 5ms/step - loss: 0.1912 - auc: 0.9087 - val_loss: 0.3659 - val_auc: 0.9153\n",
            "Epoch 6/100\n",
            "187/193 [============================>.] - ETA: 0s - loss: 0.1879 - auc: 0.9134\n",
            "Epoch 00006: val_auc did not improve from 0.91529\n",
            "193/193 [==============================] - 1s 5ms/step - loss: 0.1882 - auc: 0.9133 - val_loss: 0.3528 - val_auc: 0.9150\n",
            "Epoch 7/100\n",
            "187/193 [============================>.] - ETA: 0s - loss: 0.1830 - auc: 0.9177\n",
            "Epoch 00007: val_auc improved from 0.91529 to 0.91633, saving model to best_model_ER.h5\n",
            "193/193 [==============================] - 1s 5ms/step - loss: 0.1829 - auc: 0.9178 - val_loss: 0.3468 - val_auc: 0.9163\n",
            "Epoch 8/100\n",
            "193/193 [==============================] - ETA: 0s - loss: 0.1817 - auc: 0.9200\n",
            "Epoch 00008: val_auc improved from 0.91633 to 0.91847, saving model to best_model_ER.h5\n",
            "193/193 [==============================] - 1s 5ms/step - loss: 0.1817 - auc: 0.9200 - val_loss: 0.3486 - val_auc: 0.9185\n",
            "Epoch 9/100\n",
            "186/193 [===========================>..] - ETA: 0s - loss: 0.1768 - auc: 0.9243\n",
            "Epoch 00009: val_auc improved from 0.91847 to 0.91949, saving model to best_model_ER.h5\n",
            "193/193 [==============================] - 1s 5ms/step - loss: 0.1763 - auc: 0.9248 - val_loss: 0.3392 - val_auc: 0.9195\n",
            "Epoch 10/100\n",
            "192/193 [============================>.] - ETA: 0s - loss: 0.1758 - auc: 0.9254\n",
            "Epoch 00010: val_auc improved from 0.91949 to 0.92003, saving model to best_model_ER.h5\n",
            "193/193 [==============================] - 1s 5ms/step - loss: 0.1760 - auc: 0.9253 - val_loss: 0.3358 - val_auc: 0.9200\n",
            "Epoch 11/100\n",
            "192/193 [============================>.] - ETA: 0s - loss: 0.1743 - auc: 0.9265\n",
            "Epoch 00011: val_auc improved from 0.92003 to 0.92148, saving model to best_model_ER.h5\n",
            "193/193 [==============================] - 1s 5ms/step - loss: 0.1746 - auc: 0.9262 - val_loss: 0.3378 - val_auc: 0.9215\n",
            "Epoch 12/100\n",
            "191/193 [============================>.] - ETA: 0s - loss: 0.1690 - auc: 0.9320\n",
            "Epoch 00012: val_auc improved from 0.92148 to 0.92296, saving model to best_model_ER.h5\n",
            "193/193 [==============================] - 1s 5ms/step - loss: 0.1691 - auc: 0.9320 - val_loss: 0.3348 - val_auc: 0.9230\n",
            "Epoch 13/100\n",
            "185/193 [===========================>..] - ETA: 0s - loss: 0.1691 - auc: 0.9313\n",
            "Epoch 00013: val_auc improved from 0.92296 to 0.92348, saving model to best_model_ER.h5\n",
            "193/193 [==============================] - 1s 5ms/step - loss: 0.1694 - auc: 0.9313 - val_loss: 0.3350 - val_auc: 0.9235\n",
            "Epoch 14/100\n",
            "184/193 [===========================>..] - ETA: 0s - loss: 0.1665 - auc: 0.9350\n",
            "Epoch 00014: val_auc improved from 0.92348 to 0.92358, saving model to best_model_ER.h5\n",
            "193/193 [==============================] - 1s 5ms/step - loss: 0.1657 - auc: 0.9356 - val_loss: 0.3323 - val_auc: 0.9236\n",
            "Epoch 15/100\n",
            "187/193 [============================>.] - ETA: 0s - loss: 0.1618 - auc: 0.9383\n",
            "Epoch 00015: val_auc improved from 0.92358 to 0.92392, saving model to best_model_ER.h5\n",
            "193/193 [==============================] - 1s 5ms/step - loss: 0.1616 - auc: 0.9384 - val_loss: 0.3252 - val_auc: 0.9239\n",
            "Epoch 16/100\n",
            "185/193 [===========================>..] - ETA: 0s - loss: 0.1619 - auc: 0.9385\n",
            "Epoch 00016: val_auc improved from 0.92392 to 0.92479, saving model to best_model_ER.h5\n",
            "193/193 [==============================] - 1s 5ms/step - loss: 0.1617 - auc: 0.9388 - val_loss: 0.3282 - val_auc: 0.9248\n",
            "Epoch 17/100\n",
            "185/193 [===========================>..] - ETA: 0s - loss: 0.1604 - auc: 0.9391\n",
            "Epoch 00017: val_auc improved from 0.92479 to 0.92490, saving model to best_model_ER.h5\n",
            "193/193 [==============================] - 1s 5ms/step - loss: 0.1593 - auc: 0.9401 - val_loss: 0.3235 - val_auc: 0.9249\n",
            "Epoch 18/100\n",
            "185/193 [===========================>..] - ETA: 0s - loss: 0.1580 - auc: 0.9412\n",
            "Epoch 00018: val_auc improved from 0.92490 to 0.92529, saving model to best_model_ER.h5\n",
            "193/193 [==============================] - 1s 5ms/step - loss: 0.1579 - auc: 0.9416 - val_loss: 0.3187 - val_auc: 0.9253\n",
            "Epoch 19/100\n",
            "186/193 [===========================>..] - ETA: 0s - loss: 0.1558 - auc: 0.9432\n",
            "Epoch 00019: val_auc improved from 0.92529 to 0.92532, saving model to best_model_ER.h5\n",
            "193/193 [==============================] - 1s 5ms/step - loss: 0.1546 - auc: 0.9440 - val_loss: 0.3171 - val_auc: 0.9253\n",
            "Epoch 20/100\n",
            "190/193 [============================>.] - ETA: 0s - loss: 0.1534 - auc: 0.9443\n",
            "Epoch 00020: val_auc improved from 0.92532 to 0.92620, saving model to best_model_ER.h5\n",
            "193/193 [==============================] - 1s 5ms/step - loss: 0.1537 - auc: 0.9441 - val_loss: 0.3260 - val_auc: 0.9262\n",
            "Epoch 21/100\n",
            "185/193 [===========================>..] - ETA: 0s - loss: 0.1537 - auc: 0.9438\n",
            "Epoch 00021: val_auc did not improve from 0.92620\n",
            "193/193 [==============================] - 1s 5ms/step - loss: 0.1536 - auc: 0.9440 - val_loss: 0.3185 - val_auc: 0.9261\n",
            "Epoch 22/100\n",
            "184/193 [===========================>..] - ETA: 0s - loss: 0.1479 - auc: 0.9493\n",
            "Epoch 00022: val_auc improved from 0.92620 to 0.92732, saving model to best_model_ER.h5\n",
            "193/193 [==============================] - 1s 5ms/step - loss: 0.1471 - auc: 0.9499 - val_loss: 0.3135 - val_auc: 0.9273\n",
            "Epoch 23/100\n",
            "182/193 [===========================>..] - ETA: 0s - loss: 0.1470 - auc: 0.9493\n",
            "Epoch 00023: val_auc improved from 0.92732 to 0.92793, saving model to best_model_ER.h5\n",
            "193/193 [==============================] - 1s 5ms/step - loss: 0.1469 - auc: 0.9492 - val_loss: 0.3118 - val_auc: 0.9279\n",
            "Epoch 24/100\n",
            "190/193 [============================>.] - ETA: 0s - loss: 0.1453 - auc: 0.9506\n",
            "Epoch 00024: val_auc improved from 0.92793 to 0.92826, saving model to best_model_ER.h5\n",
            "193/193 [==============================] - 1s 5ms/step - loss: 0.1447 - auc: 0.9510 - val_loss: 0.3101 - val_auc: 0.9283\n",
            "Epoch 25/100\n",
            "184/193 [===========================>..] - ETA: 0s - loss: 0.1457 - auc: 0.9499\n",
            "Epoch 00025: val_auc did not improve from 0.92826\n",
            "193/193 [==============================] - 1s 5ms/step - loss: 0.1447 - auc: 0.9505 - val_loss: 0.3141 - val_auc: 0.9281\n",
            "Epoch 26/100\n",
            "182/193 [===========================>..] - ETA: 0s - loss: 0.1397 - auc: 0.9541\n",
            "Epoch 00026: val_auc improved from 0.92826 to 0.92864, saving model to best_model_ER.h5\n",
            "193/193 [==============================] - 1s 5ms/step - loss: 0.1403 - auc: 0.9534 - val_loss: 0.3112 - val_auc: 0.9286\n",
            "Epoch 27/100\n",
            "185/193 [===========================>..] - ETA: 0s - loss: 0.1388 - auc: 0.9554\n",
            "Epoch 00027: val_auc did not improve from 0.92864\n",
            "193/193 [==============================] - 1s 5ms/step - loss: 0.1389 - auc: 0.9553 - val_loss: 0.3122 - val_auc: 0.9284\n",
            "Epoch 28/100\n",
            "186/193 [===========================>..] - ETA: 0s - loss: 0.1365 - auc: 0.9558\n",
            "Epoch 00028: val_auc improved from 0.92864 to 0.92869, saving model to best_model_ER.h5\n",
            "193/193 [==============================] - 1s 5ms/step - loss: 0.1356 - auc: 0.9565 - val_loss: 0.3128 - val_auc: 0.9287\n",
            "Epoch 29/100\n",
            "186/193 [===========================>..] - ETA: 0s - loss: 0.1360 - auc: 0.9567\n",
            "Epoch 00029: val_auc improved from 0.92869 to 0.92984, saving model to best_model_ER.h5\n",
            "193/193 [==============================] - 1s 5ms/step - loss: 0.1346 - auc: 0.9576 - val_loss: 0.3093 - val_auc: 0.9298\n",
            "Epoch 30/100\n",
            "189/193 [============================>.] - ETA: 0s - loss: 0.1357 - auc: 0.9570\n",
            "Epoch 00030: val_auc did not improve from 0.92984\n",
            "193/193 [==============================] - 1s 5ms/step - loss: 0.1351 - auc: 0.9574 - val_loss: 0.3115 - val_auc: 0.9296\n",
            "Epoch 31/100\n",
            "185/193 [===========================>..] - ETA: 0s - loss: 0.1292 - auc: 0.9610\n",
            "Epoch 00031: val_auc did not improve from 0.92984\n",
            "193/193 [==============================] - 1s 5ms/step - loss: 0.1296 - auc: 0.9608 - val_loss: 0.3128 - val_auc: 0.9293\n",
            "Epoch 32/100\n",
            "188/193 [============================>.] - ETA: 0s - loss: 0.1326 - auc: 0.9584\n",
            "Epoch 00032: val_auc improved from 0.92984 to 0.93045, saving model to best_model_ER.h5\n",
            "193/193 [==============================] - 1s 5ms/step - loss: 0.1324 - auc: 0.9586 - val_loss: 0.3098 - val_auc: 0.9304\n",
            "Epoch 33/100\n",
            "185/193 [===========================>..] - ETA: 0s - loss: 0.1267 - auc: 0.9626\n",
            "Epoch 00033: val_auc did not improve from 0.93045\n",
            "193/193 [==============================] - 1s 5ms/step - loss: 0.1268 - auc: 0.9625 - val_loss: 0.3125 - val_auc: 0.9302\n",
            "Epoch 34/100\n",
            "186/193 [===========================>..] - ETA: 0s - loss: 0.1244 - auc: 0.9640\n",
            "Epoch 00034: val_auc did not improve from 0.93045\n",
            "193/193 [==============================] - 1s 5ms/step - loss: 0.1236 - auc: 0.9644 - val_loss: 0.3145 - val_auc: 0.9295\n",
            "Epoch 00034: early stopping\n"
          ],
          "name": "stdout"
        }
      ]
    },
    {
      "cell_type": "markdown",
      "metadata": {
        "id": "V_slxdyZkGdJ"
      },
      "source": [
        "# Evaluating Model"
      ]
    },
    {
      "cell_type": "markdown",
      "metadata": {
        "id": "fNkQ68HBqZY3"
      },
      "source": [
        "To solve inbalanced dataset problem, I tried one more method. Rather than using accuracy, I used AUC score to evaluate model. In each step of epoch, calculate the AUC score. Using this index, best model was chosen. When I evaluate model with accuracy, model showed very high accuracy, but it doesn't have ability to detect activited data. Since out datasets have much of activity data, model showed tendency to overfit to activity data. Which means that model often decide 'inactivity data' to any input. This situation makes really high accuracy but it has no meaning. Thus, I changed evaluating method using AUC score."
      ]
    },
    {
      "cell_type": "code",
      "metadata": {
        "id": "PoA4UZuCbAv8",
        "colab": {
          "base_uri": "https://localhost:8080/",
          "height": 1000
        },
        "outputId": "f64f7e09-f681-4240-9af7-463fc47336bb"
      },
      "source": [
        "# plot the accuracy and loss value of each model.\n",
        "import matplotlib.pyplot as plt\n",
        "\n",
        "def plot_history(history, name):\n",
        "  hist = pd.DataFrame(history.history)\n",
        "  hist['epoch'] = history.epoch\n",
        "\n",
        "  plt.figure()\n",
        "  plt.xlabel('Epoch')\n",
        "  plt.ylabel('Loss')\n",
        "  plt.title(\"Loss Variation in \"+name+\" Dataset\")\n",
        "  plt.plot(hist['epoch'], hist['loss'],\n",
        "           label='Train Error')\n",
        "  plt.plot(hist['epoch'], hist['val_loss'],\n",
        "           label = 'Validation Error')\n",
        "  plt.legend(loc='upper left')\n",
        "\n",
        "  plt.figure()\n",
        "  plt.xlabel('Epoch')\n",
        "  plt.ylabel('AUC')\n",
        "  plt.title(\"AUC Variation in \"+name+\" Dataset\")\n",
        "  plt.plot(hist['epoch'], hist['auc'],\n",
        "           label='Train AUC')\n",
        "  plt.plot(hist['epoch'], hist['val_auc'],\n",
        "           label = 'Validation AUC')\n",
        "  plt.legend(loc='upper left')\n",
        "\n",
        "plot_history(hist_AR, \"AR\")\n",
        "plot_history(hist_ER, \"ER\")"
      ],
      "execution_count": null,
      "outputs": [
        {
          "output_type": "display_data",
          "data": {
            "image/png": "[encoded data removed]",
            "text/plain": [
              "<Figure size 432x288 with 1 Axes>"
            ]
          },
          "metadata": {
            "tags": [],
            "needs_background": "light"
          }
        },
        {
          "output_type": "display_data",
          "data": {
            "image/png": "[encoded data removed]",
            "text/plain": [
              "<Figure size 432x288 with 1 Axes>"
            ]
          },
          "metadata": {
            "tags": [],
            "needs_background": "light"
          }
        },
        {
          "output_type": "display_data",
          "data": {
            "image/png": "[encoded data removed]",
            "text/plain": [
              "<Figure size 432x288 with 1 Axes>"
            ]
          },
          "metadata": {
            "tags": [],
            "needs_background": "light"
          }
        },
        {
          "output_type": "display_data",
          "data": {
            "image/png": "[encoded data removed]",
            "text/plain": [
              "<Figure size 432x288 with 1 Axes>"
            ]
          },
          "metadata": {
            "tags": [],
            "needs_background": "light"
          }
        }
      ]
    },
    {
      "cell_type": "code",
      "metadata": {
        "id": "z95B1LIejBXy"
      },
      "source": [
        "def toBinary(data):\n",
        "  temp = []\n",
        "  for i in range(len(data)):\n",
        "    if(data[i][0]>data[i][1]): #activation\n",
        "      temp.append(1)\n",
        "    else:\n",
        "      temp.append(0)\n",
        "  return temp\n",
        "\n",
        "def toScore(X_test, Y_test, model):\n",
        "  Y_pred = model.predict(X_test)\n",
        "  temp = []\n",
        "  for i in range(len(Y_test)):\n",
        "    if(Y_test[i][0]>Y_test[i][1]): #activation\n",
        "      temp.append(Y_pred[i][0])\n",
        "    else:\n",
        "      temp.append(Y_pred[i][1])\n",
        "  return temp\n",
        "\n",
        "y_true_AR = toBinary(Y_test_AR)\n",
        "y_pred_AR = toBinary(model_AR.predict(X_test_AR))\n",
        "y_score_AR = toScore(X_test_AR, Y_test_AR, model_AR)\n",
        "\n",
        "y_true_ER = toBinary(Y_test_ER)\n",
        "y_pred_ER = toBinary(model_ER.predict(X_test_ER))\n",
        "y_score_ER = toScore(X_test_ER, Y_test_ER, model_ER)\n"
      ],
      "execution_count": null,
      "outputs": []
    },
    {
      "cell_type": "code",
      "metadata": {
        "id": "dyB55-txbDtl",
        "colab": {
          "base_uri": "https://localhost:8080/",
          "height": 533
        },
        "outputId": "82a62306-b39d-4373-b58d-2f63dd30d81b"
      },
      "source": [
        "# evaluate the prediction model using test dataset.\n",
        "import sklearn.metrics as metrics\n",
        "from sklearn.metrics import classification_report, roc_curve, auc, confusion_matrix\n",
        "# Run classifier with cross-validation and plot ROC curves\n",
        "def evaluate_model(y_true, y_pred, y_score):\n",
        "  target_names = ['activation', 'inactivation']\n",
        "  print(\"<Classification Report>\")\n",
        "  print(classification_report(y_true, y_pred, target_names=target_names))\n",
        "\n",
        "  print(\"<ROC curve and AUC Score>\")\n",
        "  fpr, tpr, thresholds = metrics.roc_curve(y_true, y_score, pos_label=0)\n",
        "  roc_auc = metrics.auc(fpr, tpr)\n",
        "  plt.figure()\n",
        "  plt.plot(fpr, tpr, label='ROC curve (AUC = %0.2f)' % roc_auc)\n",
        "  plt.plot([0, 1], [0, 1], 'k--')\n",
        "  plt.xlim([0.0, 1.0])\n",
        "  plt.ylim([0.0, 1.05])\n",
        "  plt.xlabel('False Positive Rate')\n",
        "  plt.ylabel('True Positive Rate')\n",
        "  plt.title('Receiver operating characteristic')\n",
        "  plt.legend(loc=\"lower right\")\n",
        "  plt.show()\n",
        "\n",
        "  matrix = confusion_matrix(y_true, y_pred)\n",
        "  print(\"<Confusion Matrix>\")\n",
        "  print(\"TN: \",matrix[0][0],  \"FP: \", matrix[0][1] )\n",
        "  print(\"FN: \", matrix[1][0], \"TP: \", matrix[1][1])\n",
        "  return\n",
        "\n",
        "\n",
        "# AUC of AR dataset\n",
        "evaluate_model(y_true_AR, y_pred_AR, y_score_AR)"
      ],
      "execution_count": 786,
      "outputs": [
        {
          "output_type": "stream",
          "text": [
            "<Classification Report>\n",
            "              precision    recall  f1-score   support\n",
            "\n",
            "  activation       0.98      1.00      0.99       898\n",
            "inactivation       0.86      0.63      0.73        38\n",
            "\n",
            "    accuracy                           0.98       936\n",
            "   macro avg       0.92      0.81      0.86       936\n",
            "weighted avg       0.98      0.98      0.98       936\n",
            "\n",
            "<ROC curve and AUC Score>\n"
          ],
          "name": "stdout"
        },
        {
          "output_type": "display_data",
          "data": {
            "image/png": "[encoded data removed]",
            "text/plain": [
              "<Figure size 432x288 with 1 Axes>"
            ]
          },
          "metadata": {
            "tags": [],
            "needs_background": "light"
          }
        },
        {
          "output_type": "stream",
          "text": [
            "<Confusion Matrix>\n",
            "TN:  894 FP:  4\n",
            "FN:  14 TP:  24\n"
          ],
          "name": "stdout"
        }
      ]
    },
    {
      "cell_type": "code",
      "metadata": {
        "id": "_EUQJpCNbHGb",
        "colab": {
          "base_uri": "https://localhost:8080/",
          "height": 533
        },
        "outputId": "12a83f26-115a-402f-f907-0a9e5642d92d"
      },
      "source": [
        "# AUC of ER dataset\n",
        "evaluate_model(y_true_ER, y_pred_ER, y_score_ER)"
      ],
      "execution_count": 787,
      "outputs": [
        {
          "output_type": "stream",
          "text": [
            "<Classification Report>\n",
            "              precision    recall  f1-score   support\n",
            "\n",
            "  activation       0.92      0.97      0.95       676\n",
            "inactivation       0.67      0.40      0.50        94\n",
            "\n",
            "    accuracy                           0.90       770\n",
            "   macro avg       0.79      0.69      0.72       770\n",
            "weighted avg       0.89      0.90      0.89       770\n",
            "\n",
            "<ROC curve and AUC Score>\n"
          ],
          "name": "stdout"
        },
        {
          "output_type": "display_data",
          "data": {
            "image/png": "[encoded data removed]",
            "text/plain": [
              "<Figure size 432x288 with 1 Axes>"
            ]
          },
          "metadata": {
            "tags": [],
            "needs_background": "light"
          }
        },
        {
          "output_type": "stream",
          "text": [
            "<Confusion Matrix>\n",
            "TN:  657 FP:  19\n",
            "FN:  56 TP:  38\n"
          ],
          "name": "stdout"
        }
      ]
    }
  ]
}